{
 "cells": [
  {
   "cell_type": "markdown",
   "metadata": {},
   "source": [
    "# Pathology Report Segmentation \n",
    "--------\n"
   ]
  },
  {
   "cell_type": "markdown",
   "metadata": {},
   "source": [
    "### WARNING BEFORE COMMITTING\n",
    "<span style=\"color:red\">Do not commit this demo where PHI is displayed!!</span>\n",
    "\n",
    "\n",
    "### Introduction\n",
    "\n",
    "The primary goal of this notebook is to break down pathology reports into sections and sub-sections. These consist of:\n",
    "\n",
    "- Report header\n",
    "- Specimens submitted\n",
    "- Clinical diagnosis\n",
    "- Pathological diagnosis\n",
    "    - Synoptic infomation\n",
    "    - Free-text\n",
    "- Addendums\n",
    "\n",
    "#### Annotations\n",
    "Once reports are broken down into their general subsections, specific attributes of the report are captured. These include:\n",
    "- Date of procedure (different from date of report)\n",
    "- Source accession number (Ex. specimen in current report was originally examined in a previous report)\n",
    "- Specimen name"
   ]
  },
  {
   "cell_type": "markdown",
   "metadata": {},
   "source": [
    "### Accessing This Jupyter Notebook on an MSK-MIND Machine from local machine: \n",
    "\n",
    "1) From MIND server, start Remote Jupyter Notebook:\n",
    "      \n",
    "       >> jupyter-lab --no-browser --port=8888\n",
    "    \n",
    "2) Listen to Forwarded Port on Local machine:\n",
    "   \n",
    "       >> ssh -N -f -L localhost:8080:localhost:8888 <USERNAME>@<MIND-SERVER-NAME>\n",
    "    \n",
    "3) Open local browser, notebook will be at localhost:8080\n",
    "\n",
    "Note: If you are completely running this notebok from your local machine, you can disregard these steps."
   ]
  },
  {
   "cell_type": "markdown",
   "metadata": {},
   "source": [
    "### Import libraries"
   ]
  },
  {
   "cell_type": "code",
   "execution_count": 1,
   "metadata": {},
   "outputs": [],
   "source": [
    "import sys  \n",
    "sys.path.insert(0, '../segmentation')\n",
    "sys.path.insert(0, '../annotations')\n",
    "sys.path.insert(0, '../synoptic_classification')\n",
    "sys.path.insert(0, '../')\n",
    "import os\n",
    "import pandas as pd\n",
    "from darwin_pathology import DarwinDiscoveryPathology\n",
    "from pathology_parse_surgical import ParseSurgicalPathology\n",
    "from pathology_parse_molecular import ParseMolecularPathology\n",
    "from pathology_parse_specimen_submitted import PathologyParseSpecSubmitted\n",
    "from pathology_parsing_surgical_specimens import ParseSurgicalPathologySpecimens\n",
    "from pathology_extract_accession import PathologyExtractAccession\n",
    "from pathology_extract_dop import PathologyExtractDOP\n",
    "from pathology_extract_dop_impact_wrapper import CombineAccessionDOPImpact\n",
    "from pathology_impact_summary_dop_annotator import PathologyImpactDOPAnno\n",
    "import constants_darwin_pathology as c_dar\n",
    "from utils_pathology import set_debug_console"
   ]
  },
  {
   "cell_type": "code",
   "execution_count": 2,
   "metadata": {},
   "outputs": [],
   "source": [
    "# Extend debug window\n",
    "set_debug_console()"
   ]
  },
  {
   "cell_type": "markdown",
   "metadata": {},
   "source": [
    "-----------------------\n",
    "## Create MSK-IMPACT pathology annotation summary table"
   ]
  },
  {
   "cell_type": "markdown",
   "metadata": {},
   "source": [
    "#### Parameters"
   ]
  },
  {
   "cell_type": "code",
   "execution_count": 3,
   "metadata": {},
   "outputs": [],
   "source": [
    "run_path_clean = True\n",
    "run_parse_surg = True\n",
    "run_parse_dmp = True\n",
    "run_parse_spec_sub = True\n",
    "run_parse_path_dx = True\n",
    "run_spec_sub_path_dx_combiner = False\n",
    "\n",
    "# TODO: Move the rest to annotation section\n",
    "run_parse_accession = True\n",
    "run_parse_dop = True\n",
    "run_CombineAccessionDOPImpact = True\n",
    "run_dop_extra_anno = True"
   ]
  },
  {
   "cell_type": "markdown",
   "metadata": {},
   "source": [
    "#### Filenames\n",
    "Filenames used for this demo are defined here: `clinical_data_mining/pathology_report_segmentation/constants_darwin_pathology.py`"
   ]
  },
  {
   "cell_type": "markdown",
   "metadata": {},
   "source": [
    "#### Column names"
   ]
  },
  {
   "cell_type": "code",
   "execution_count": 4,
   "metadata": {},
   "outputs": [],
   "source": [
    "## Constants\n",
    "col_label_access_num = 'ACCESSION_NUMBER'\n",
    "col_label_spec_num = 'SPECIMEN_NUMBER'\n",
    "col_spec_sub = 'SPECIMEN_SUBMITTED'"
   ]
  },
  {
   "cell_type": "markdown",
   "metadata": {},
   "source": [
    "\n",
    "-------\n",
    "## Run Code for header segmentation\n",
    "\n",
    "<font color=green> DarwinDiscoveryPathology</font>\n",
    "\n",
    "\n",
    "**Run initial cleaning of pathology table that comes directly from the DDP scrapper**\n",
    "- Source file: `darwin_pathology.py`\n",
    "\n",
    "- Input: Pathology report table from DDP (Typically `Darwin_Digital_Pathology_Reports.csv`)\n",
    "\n",
    "- Output: Dataframe returned with basic cleanning done (Typically: `table_pathology_clean.csv`)"
   ]
  },
  {
   "cell_type": "code",
   "execution_count": 5,
   "metadata": {},
   "outputs": [
    {
     "name": "stdout",
     "output_type": "stream",
     "text": [
      "Running DarwinDiscoveryPathology...\n",
      "Loading pathology/DDP_Pathology_Reports_20210428.tsv\n",
      "Saving pathology/table_pathology_clean.csv\n",
      "Saved.\n"
     ]
    }
   ],
   "source": [
    "# Recreate cleaned pathology data\n",
    "if run_path_clean:\n",
    "    print('Running DarwinDiscoveryPathology...')\n",
    "    obj_path = DarwinDiscoveryPathology(pathname=c_dar.pathname,\n",
    "                                         fname=c_dar.fname_path_ddp,  # Change name\n",
    "                                         fname_out=c_dar.fname_darwin_path_clean)"
   ]
  },
  {
   "cell_type": "code",
   "execution_count": 6,
   "metadata": {},
   "outputs": [],
   "source": [
    "df_obj_path = obj_path.return_df().head()\n",
    "df_obj_path.head();"
   ]
  },
  {
   "cell_type": "markdown",
   "metadata": {},
   "source": [
    "### ParseSurgicalPathology\n",
    "**Parse main sections of surgical pathology reports**\n",
    "- Source file: `pathology_parse_surgical.py`\n",
    "- Input: Clean pathology report table from `DarwinDiscoveryPathology` (Typically `table_pathology_clean.csv`)\n",
    "\n",
    "- Output: Dataframe of surgical pathology reports (S-numbers) with main sections separated by column  (Typically: `table_pathology_surgical_notes_parsed.csv`)"
   ]
  },
  {
   "cell_type": "code",
   "execution_count": 7,
   "metadata": {},
   "outputs": [
    {
     "name": "stdout",
     "output_type": "stream",
     "text": [
      "Running ParseSurgicalPathology...\n",
      "Extracting Section: HEADER\n",
      "Extracting Section: IND_CLINICAL_DX_1\n",
      "Extracting Section: IND_SPEC_SUB_1\n",
      "Extracting Section: IND_PATH_DX_1\n",
      "Parsing Remaining Text\n",
      "Saving pathology/table_pathology_surgical_notes_parsed.csv\n",
      "Saved.\n"
     ]
    }
   ],
   "source": [
    "# Using the cleaned pathology table, parse the main sections of the surgical pathology note\n",
    "# surgical_pathology_parsing.py\n",
    "if run_parse_surg:\n",
    "    print('Running ParseSurgicalPathology...')\n",
    "    obj_path_parse = ParseSurgicalPathology(pathname=c_dar.pathname,\n",
    "                                            fname_path_clean=c_dar.fname_darwin_path_clean,\n",
    "                                            fname_save=c_dar.fname_darwin_path_surgical)"
   ]
  },
  {
   "cell_type": "code",
   "execution_count": 9,
   "metadata": {},
   "outputs": [
    {
     "ename": "NameError",
     "evalue": "name 'obj_path_parse' is not defined",
     "output_type": "error",
     "traceback": [
      "\u001b[0;31m---------------------------------------------------------------------------\u001b[0m",
      "\u001b[0;31mNameError\u001b[0m                                 Traceback (most recent call last)",
      "\u001b[0;32m<ipython-input-9-74d1af9ec670>\u001b[0m in \u001b[0;36m<module>\u001b[0;34m\u001b[0m\n\u001b[0;32m----> 1\u001b[0;31m \u001b[0mdf_obj_path_parse\u001b[0m \u001b[0;34m=\u001b[0m \u001b[0mobj_path_parse\u001b[0m\u001b[0;34m.\u001b[0m\u001b[0mreturn_df_summary\u001b[0m\u001b[0;34m(\u001b[0m\u001b[0;34m)\u001b[0m\u001b[0;34m\u001b[0m\u001b[0;34m\u001b[0m\u001b[0m\n\u001b[0m\u001b[1;32m      2\u001b[0m \u001b[0mdf_obj_path_parse\u001b[0m\u001b[0;34m.\u001b[0m\u001b[0mhead\u001b[0m\u001b[0;34m(\u001b[0m\u001b[0;34m)\u001b[0m\u001b[0;34m\u001b[0m\u001b[0;34m\u001b[0m\u001b[0m\n\u001b[1;32m      3\u001b[0m \u001b[0;31m# df_obj_path_parse['DMP_ID'].nunique()\u001b[0m\u001b[0;34m\u001b[0m\u001b[0;34m\u001b[0m\u001b[0;34m\u001b[0m\u001b[0m\n",
      "\u001b[0;31mNameError\u001b[0m: name 'obj_path_parse' is not defined"
     ]
    }
   ],
   "source": [
    "df_obj_path_parse = obj_path_parse.return_df_summary()\n",
    "df_obj_path_parse.head()\n",
    "# df_obj_path_parse['DMP_ID'].nunique()\n"
   ]
  },
  {
   "cell_type": "markdown",
   "metadata": {},
   "source": [
    "### ParseMolecularPathology\n",
    "**Parse main sections of molecular pathology (MSK-IMPACT) reports**\n",
    "- Source file: `pathology_parse_molecular.py`\n",
    "- Input: Clean pathology report table from `DarwinDiscoveryPathology` (Typically `table_pathology_clean.csv`)\n",
    "\n",
    "- Output: Dataframe of molecular pathology reports (M-numbers) with main sections separated by column  (Typically: `table_pathology_molecular_notes_parsed.csv`)"
   ]
  },
  {
   "cell_type": "code",
   "execution_count": 9,
   "metadata": {},
   "outputs": [
    {
     "name": "stdout",
     "output_type": "stream",
     "text": [
      "Running ParseMolecularPathology...\n",
      "Loading clean pathology table\n",
      "Number of samples in list: 224915\n",
      "Extracting Section: IND_SPEC_SUB_1\n",
      "Extracting Section: IND_PATH_DX_1\n",
      "Extracting Section: IND_HEADER_0\n",
      "Saving pathology/table_pathology_molecular_notes_parsed.csv\n",
      "Saved.\n"
     ]
    }
   ],
   "source": [
    "# Using the cleaned pathology table, parse the main sections of the molecular pathology note\n",
    "if run_parse_dmp:\n",
    "    print('Running ParseMolecularPathology...')\n",
    "    obj_parse_dmp = ParseMolecularPathology(pathname=c_dar.pathname,\n",
    "                                           fname_path_clean=c_dar.fname_darwin_path_clean,\n",
    "                                           fname_save=c_dar.fname_darwin_path_molecular)"
   ]
  },
  {
   "cell_type": "code",
   "execution_count": 10,
   "metadata": {},
   "outputs": [],
   "source": [
    "df_obj_parse_dmp = obj_parse_dmp.return_df_summary()\n",
    "df_obj_parse_dmp.head();\n"
   ]
  },
  {
   "cell_type": "markdown",
   "metadata": {},
   "source": [
    "### PathologyParseSpecSubmitted\n",
    "**Parses specimen submitted column into individual parts**\n",
    "- Source file: `pathology_parse_specimen_submitted.py`\n",
    "- Input: \n",
    "    - Clean pathology report table from `DarwinDiscoveryPathology` (Typically `table_pathology_clean.csv`)\n",
    "    - Column name for specimens submitted\n",
    "    - List of column names used as the index for the output (Typically only Patient ID and accession number is needed)\n",
    "\n",
    "- Output: Dataframe of specimens submitted. Each row is a part number of a report (Typically: `table_pathology_col_spec_sub.csv`)"
   ]
  },
  {
   "cell_type": "code",
   "execution_count": 11,
   "metadata": {},
   "outputs": [
    {
     "name": "stdout",
     "output_type": "stream",
     "text": [
      "Running PathologyParseSpecSubmitted...\n",
      "Loading pathology table containing specimen submitted info\n",
      "Parsing Specimen List\n",
      "Saving pathology/table_pathology_col_spec_sub.csv\n",
      "Saved.\n"
     ]
    }
   ],
   "source": [
    "if run_parse_spec_sub:\n",
    "    # Parse the individual part descriptions from the specimen submitted column of parsed reports\n",
    "    # Segment specimen submissions for molecular path\n",
    "    print('Running PathologyParseSpecSubmitted...')\n",
    "    obj_spec_sub = PathologyParseSpecSubmitted(pathname=c_dar.pathname,\n",
    "                                              fname_path_parsed=c_dar.fname_darwin_path_clean,\n",
    "                                              col_spec_sub='SPECIMEN_SUBMISSION_LIST',\n",
    "                                              list_cols_id=['MRN', 'ACCESSION_NUMBER'],\n",
    "                                              fname_save=c_dar.fname_darwin_path_col_spec_sub)"
   ]
  },
  {
   "cell_type": "code",
   "execution_count": 16,
   "metadata": {},
   "outputs": [
    {
     "ename": "NameError",
     "evalue": "name 'obj_spec_sub' is not defined",
     "output_type": "error",
     "traceback": [
      "\u001b[0;31m---------------------------------------------------------------------------\u001b[0m",
      "\u001b[0;31mNameError\u001b[0m                                 Traceback (most recent call last)",
      "\u001b[0;32m<ipython-input-16-9059b5d8a579>\u001b[0m in \u001b[0;36m<module>\u001b[0;34m\u001b[0m\n\u001b[0;32m----> 1\u001b[0;31m \u001b[0mdf_spec_sub\u001b[0m \u001b[0;34m=\u001b[0m \u001b[0mobj_spec_sub\u001b[0m\u001b[0;34m.\u001b[0m\u001b[0mreturn_df\u001b[0m\u001b[0;34m(\u001b[0m\u001b[0;34m)\u001b[0m\u001b[0;34m\u001b[0m\u001b[0;34m\u001b[0m\u001b[0m\n\u001b[0m\u001b[1;32m      2\u001b[0m \u001b[0mdf_spec_sub\u001b[0m\u001b[0;34m.\u001b[0m\u001b[0mhead\u001b[0m\u001b[0;34m(\u001b[0m\u001b[0;36m10\u001b[0m\u001b[0;34m)\u001b[0m\u001b[0;34m;\u001b[0m\u001b[0;34m\u001b[0m\u001b[0;34m\u001b[0m\u001b[0m\n",
      "\u001b[0;31mNameError\u001b[0m: name 'obj_spec_sub' is not defined"
     ]
    }
   ],
   "source": [
    "df_spec_sub = obj_spec_sub.return_df()\n",
    "df_spec_sub.head(10);"
   ]
  },
  {
   "cell_type": "markdown",
   "metadata": {},
   "source": [
    "### ParseSurgicalPathologySpecimens\n",
    "**Parses specimen submitted SECTION in surgical path reports into individual parts**\n",
    "- Source file: `pathology_parsing_surgical_specimens.py`\n",
    "- Input: Parsed surgical pathology report table (Main headers) from `ParseSurgicalPathology` (Typically `table_pathology_surgical_notes_parsed.csv`)\n",
    "\n",
    "\n",
    "- Output: Dataframe of specimens submitted. Each row is a part number of a report (Typically: `table_pathology_surgical_samples_parsed_specimen.csv`)"
   ]
  },
  {
   "cell_type": "code",
   "execution_count": 13,
   "metadata": {},
   "outputs": [
    {
     "name": "stdout",
     "output_type": "stream",
     "text": [
      "Running ParseSurgicalPathologySpecimens...\n",
      "Parsing Pathology Diagnosis Section\n",
      "Elongating Parsed Pathology Data\n",
      "Saving pathology/table_pathology_surgical_samples_parsed_specimen.csv\n",
      "Saved.\n"
     ]
    }
   ],
   "source": [
    "if run_parse_path_dx:\n",
    "    print('Running ParseSurgicalPathologySpecimens...')\n",
    "    pathname = c_dar.pathname\n",
    "    fname_out_pathology_specimens_parsed = c_dar.fname_darwin_path_clean_parsed_specimen\n",
    "    fname_darwin_pathology_parsed = c_dar.fname_darwin_path_surgical\n",
    "    obj_parse = ParseSurgicalPathologySpecimens(pathname=pathname,\n",
    "                                                fname_darwin_pathology_parsed=fname_darwin_pathology_parsed,\n",
    "                                                fname_out_pathology_specimens_parsed=fname_out_pathology_specimens_parsed)"
   ]
  },
  {
   "cell_type": "code",
   "execution_count": 15,
   "metadata": {},
   "outputs": [
    {
     "ename": "NameError",
     "evalue": "name 'obj_parse' is not defined",
     "output_type": "error",
     "traceback": [
      "\u001b[0;31m---------------------------------------------------------------------------\u001b[0m",
      "\u001b[0;31mNameError\u001b[0m                                 Traceback (most recent call last)",
      "\u001b[0;32m<ipython-input-15-d683dc5aba40>\u001b[0m in \u001b[0;36m<module>\u001b[0;34m\u001b[0m\n\u001b[0;32m----> 1\u001b[0;31m \u001b[0mdf_surg_path_parsed_spec\u001b[0m \u001b[0;34m=\u001b[0m \u001b[0mobj_parse\u001b[0m\u001b[0;34m.\u001b[0m\u001b[0mreturn_df_parsed_spec\u001b[0m\u001b[0;34m(\u001b[0m\u001b[0;34m)\u001b[0m\u001b[0;34m\u001b[0m\u001b[0;34m\u001b[0m\u001b[0m\n\u001b[0m\u001b[1;32m      2\u001b[0m \u001b[0mprint\u001b[0m\u001b[0;34m(\u001b[0m\u001b[0mdf_surg_path_parsed_spec\u001b[0m\u001b[0;34m.\u001b[0m\u001b[0mshape\u001b[0m\u001b[0;34m)\u001b[0m\u001b[0;34m\u001b[0m\u001b[0;34m\u001b[0m\u001b[0m\n\u001b[1;32m      3\u001b[0m \u001b[0mdf_surg_path_parsed_spec\u001b[0m\u001b[0;34m.\u001b[0m\u001b[0mhead\u001b[0m\u001b[0;34m(\u001b[0m\u001b[0;34m)\u001b[0m\u001b[0;34m;\u001b[0m\u001b[0;34m\u001b[0m\u001b[0;34m\u001b[0m\u001b[0m\n\u001b[1;32m      4\u001b[0m \u001b[0;34m\u001b[0m\u001b[0m\n",
      "\u001b[0;31mNameError\u001b[0m: name 'obj_parse' is not defined"
     ]
    }
   ],
   "source": [
    "df_surg_path_parsed_spec = obj_parse.return_df_parsed_spec()\n",
    "print(df_surg_path_parsed_spec.shape)\n",
    "df_surg_path_parsed_spec.head();\n",
    "\n"
   ]
  },
  {
   "cell_type": "code",
   "execution_count": 15,
   "metadata": {},
   "outputs": [],
   "source": [
    "df_surg_path_parsed = obj_parse.return_df_parsed()\n",
    "df_surg_path_parsed.head();"
   ]
  },
  {
   "cell_type": "markdown",
   "metadata": {},
   "source": [
    "### run_spec_sub_path_dx_combiner\n",
    "##### TODO!!! \n",
    "This code will combine specimen submitted values from column version and \"parsed section in the reports\" version"
   ]
  },
  {
   "cell_type": "code",
   "execution_count": 16,
   "metadata": {},
   "outputs": [
    {
     "name": "stdout",
     "output_type": "stream",
     "text": [
      "Complete!\n"
     ]
    }
   ],
   "source": [
    "if run_spec_sub_path_dx_combiner:\n",
    "    print('Running Combiner...')\n",
    "    run = None\n",
    "\n",
    "print('Complete!')"
   ]
  },
  {
   "cell_type": "markdown",
   "metadata": {},
   "source": [
    "----------------\n",
    "## Run code for abstracting elements for annotations\n",
    "Once pathology reports are segmented, abstract data for annotations"
   ]
  },
  {
   "cell_type": "markdown",
   "metadata": {},
   "source": [
    "### PathologyExtractAccession\n",
    "**Automatically abstracts source accession number for specimen submitted parts**\n",
    "- Source file: `pathology_extract_accession.py`\n",
    "- Input: Dataframe of specimens submitted. Each row is a part number of a report (Typically: `table_pathology_col_spec_sub.csv`)\n",
    "\n",
    "- Output: Dataframe of accession and part number embedded in free-text (Typically: `path_accessions.csv`)"
   ]
  },
  {
   "cell_type": "code",
   "execution_count": 17,
   "metadata": {},
   "outputs": [
    {
     "name": "stdout",
     "output_type": "stream",
     "text": [
      "Running PathologyExtractAccession...\n",
      "Extracting Matching Accession Numbers\n",
      "Saving pathology/path_accessions.csv\n",
      "Saved.\n"
     ]
    }
   ],
   "source": [
    "if run_parse_accession:\n",
    "    print('Running PathologyExtractAccession...')\n",
    "    obj_ext_accession = PathologyExtractAccession(pathname=c_dar.pathname,\n",
    "                                                fname=c_dar.fname_darwin_path_col_spec_sub,\n",
    "                                                col_label_access_num=col_label_access_num,\n",
    "                                                col_label_spec_num=col_label_spec_num,\n",
    "                                                col_spec_sub=col_spec_sub,\n",
    "                                                fname_out=c_dar.fname_accessions)"
   ]
  },
  {
   "cell_type": "code",
   "execution_count": 14,
   "metadata": {},
   "outputs": [
    {
     "ename": "NameError",
     "evalue": "name 'obj_ext_accession' is not defined",
     "output_type": "error",
     "traceback": [
      "\u001b[0;31m---------------------------------------------------------------------------\u001b[0m",
      "\u001b[0;31mNameError\u001b[0m                                 Traceback (most recent call last)",
      "\u001b[0;32m<ipython-input-14-de37c098258d>\u001b[0m in \u001b[0;36m<module>\u001b[0;34m\u001b[0m\n\u001b[0;32m----> 1\u001b[0;31m \u001b[0mdf_accessions\u001b[0m \u001b[0;34m=\u001b[0m \u001b[0mobj_ext_accession\u001b[0m\u001b[0;34m.\u001b[0m\u001b[0mreturn_df\u001b[0m\u001b[0;34m(\u001b[0m\u001b[0;34m)\u001b[0m\u001b[0;34m\u001b[0m\u001b[0;34m\u001b[0m\u001b[0m\n\u001b[0m\u001b[1;32m      2\u001b[0m \u001b[0mdf_accessions\u001b[0m\u001b[0;34m[\u001b[0m\u001b[0mdf_accessions\u001b[0m\u001b[0;34m[\u001b[0m\u001b[0;34m'SOURCE_ACCESSION_NUMBER_0'\u001b[0m\u001b[0;34m]\u001b[0m\u001b[0;34m.\u001b[0m\u001b[0mnotnull\u001b[0m\u001b[0;34m(\u001b[0m\u001b[0;34m)\u001b[0m\u001b[0;34m]\u001b[0m\u001b[0;34m.\u001b[0m\u001b[0mhead\u001b[0m\u001b[0;34m(\u001b[0m\u001b[0;34m)\u001b[0m\u001b[0;34m;\u001b[0m\u001b[0;34m\u001b[0m\u001b[0;34m\u001b[0m\u001b[0m\n",
      "\u001b[0;31mNameError\u001b[0m: name 'obj_ext_accession' is not defined"
     ]
    }
   ],
   "source": [
    "df_accessions = obj_ext_accession.return_df()\n",
    "df_accessions[df_accessions['SOURCE_ACCESSION_NUMBER_0'].notnull()].head();"
   ]
  },
  {
   "cell_type": "markdown",
   "metadata": {},
   "source": [
    "### PathologyExtractDOP\n",
    "**Extraction of DOP of the specimen part from specimen submitted sections**\n",
    "- Source file: pathology_extract_dop.py\n",
    "- Input: Dataframe of specimens submitted. Each row is a part number of a report (Typically: `table_pathology_col_spec_sub.csv`)\n",
    "\n",
    "- Output: Dataframe of date of procedure for each part number embedded in free-text (Typically: `pathology_spec_part_dop.csv`)"
   ]
  },
  {
   "cell_type": "code",
   "execution_count": 19,
   "metadata": {},
   "outputs": [
    {
     "name": "stdout",
     "output_type": "stream",
     "text": [
      "Running PathologyExtractDOP...\n",
      "Extracting Date of Procedure in specimen submitted column\n",
      "Saving pathology/pathology_spec_part_dop.csv\n",
      "Saved.\n"
     ]
    }
   ],
   "source": [
    "# Create annotation for date of procedure (DOP) for all pathology reports/specimen part, if indicated\n",
    "if run_parse_dop:\n",
    "    print('Running PathologyExtractDOP...')\n",
    "    obj_dop = PathologyExtractDOP(pathname=c_dar.pathname,\n",
    "                                    fname=c_dar.fname_darwin_path_col_spec_sub,\n",
    "                                    col_label_access_num=col_label_access_num,\n",
    "                                    col_label_spec_num=col_label_spec_num,\n",
    "                                    col_spec_sub=col_spec_sub,\n",
    "                                    list_accession=None,\n",
    "                                    fname_out=c_dar.fname_spec_part_dop)"
   ]
  },
  {
   "cell_type": "code",
   "execution_count": 20,
   "metadata": {},
   "outputs": [
    {
     "data": {
      "text/plain": [
       "(249574, 4)"
      ]
     },
     "execution_count": 20,
     "metadata": {},
     "output_type": "execute_result"
    }
   ],
   "source": [
    "df_obj_dop = obj_dop.return_df()\n",
    "df_obj_dop[df_obj_dop['DATE_OF_PROCEDURE_SURGICAL'].notnull()].shape"
   ]
  },
  {
   "cell_type": "markdown",
   "metadata": {},
   "source": [
    "### CombineAccessionDOPImpact\n",
    "**To generate a summary table of source accession and DOP for a given  pathology report.**\n",
    "- Source file: `pathology_extract_dop_impact_wrapper.py`\n",
    "- Input: \n",
    "    - fname_accession=`path_accessions.csv`\n",
    "    - fname_dop=`pathology_spec_part_dop.csv`\n",
    "    - fname_path=`table_pathology_clean.csv`\n",
    "- Output: `pathology_dop_impact_summary.csv`"
   ]
  },
  {
   "cell_type": "code",
   "execution_count": 21,
   "metadata": {},
   "outputs": [
    {
     "name": "stdout",
     "output_type": "stream",
     "text": [
      "Running CombineAccessionDOPImpact...\n",
      "Saving pathology/pathology_dop_impact_summary.csv\n",
      "Saved.\n"
     ]
    }
   ],
   "source": [
    "# Create table of M accessions of IMPACT samples, source accession number, dates of reports and procedures\n",
    "#Call pathology_extract_dop_impact_wrapper.py\n",
    "if run_CombineAccessionDOPImpact:\n",
    "    print('Running CombineAccessionDOPImpact...')\n",
    "    obj_p = CombineAccessionDOPImpact(pathname=c_dar.pathname,\n",
    "                                      fname_accession=c_dar.fname_accessions,\n",
    "                                      fname_dop=c_dar.fname_spec_part_dop,\n",
    "                                      fname_path=c_dar.fname_darwin_path_clean,\n",
    "                                      fname_out=c_dar.fname_combine_dop_accession)"
   ]
  },
  {
   "cell_type": "code",
   "execution_count": 13,
   "metadata": {},
   "outputs": [
    {
     "ename": "NameError",
     "evalue": "name 'obj_p' is not defined",
     "output_type": "error",
     "traceback": [
      "\u001b[0;31m---------------------------------------------------------------------------\u001b[0m",
      "\u001b[0;31mNameError\u001b[0m                                 Traceback (most recent call last)",
      "\u001b[0;32m<ipython-input-13-65c36836f078>\u001b[0m in \u001b[0;36m<module>\u001b[0;34m\u001b[0m\n\u001b[0;32m----> 1\u001b[0;31m \u001b[0mdf_dop_accession\u001b[0m \u001b[0;34m=\u001b[0m \u001b[0mobj_p\u001b[0m\u001b[0;34m.\u001b[0m\u001b[0mreturn_df\u001b[0m\u001b[0;34m(\u001b[0m\u001b[0;34m)\u001b[0m\u001b[0;34m\u001b[0m\u001b[0;34m\u001b[0m\u001b[0m\n\u001b[0m\u001b[1;32m      2\u001b[0m \u001b[0mdf_dop_accession\u001b[0m\u001b[0;34m.\u001b[0m\u001b[0mhead\u001b[0m\u001b[0;34m(\u001b[0m\u001b[0;34m)\u001b[0m\u001b[0;34m;\u001b[0m\u001b[0;34m\u001b[0m\u001b[0;34m\u001b[0m\u001b[0m\n",
      "\u001b[0;31mNameError\u001b[0m: name 'obj_p' is not defined"
     ]
    }
   ],
   "source": [
    "df_dop_accession = obj_p.return_df()\n",
    "df_dop_accession.head();\n"
   ]
  },
  {
   "cell_type": "markdown",
   "metadata": {},
   "source": [
    "### PathologyImpactDOPAnno\n",
    "**To fill in missing DOPs by comparing dates of source surgical pathology reports with surgical and IR dates and labelling positive comparisons as the DOP.**\n",
    "- Source file: `pathology_impact_summary_dop_annotator.py`\n",
    "- Input:  \n",
    "    - fname_path_summary=`pathology_dop_impact_summary.csv`\n",
    "    - fname_surgery=`table_surgery.tsv`\n",
    "    - fname_ir=`table_investigational_radiology.tsv`\n",
    "- Output: `table_pathology_impact_sample_summary_dop_anno.csv`"
   ]
  },
  {
   "cell_type": "code",
   "execution_count": 10,
   "metadata": {},
   "outputs": [
    {
     "name": "stdout",
     "output_type": "stream",
     "text": [
      "Running CombineAccessionDOPImpact...\n",
      "Saving pathology/table_pathology_impact_sample_summary_dop_anno.csv\n",
      "Saved.\n"
     ]
    }
   ],
   "source": [
    "# Add annoations for surgical reports that on the same day as the surgery/IR\n",
    "# Call pathology_impact_summary_dop_annotator.py\n",
    "if run_CombineAccessionDOPImpact:\n",
    "    print('Running CombineAccessionDOPImpact...')\n",
    "    obj_dop_anno = PathologyImpactDOPAnno(pathname=c_dar.pathname,\n",
    "                                          fname_path_summary=c_dar.fname_combine_dop_accession,\n",
    "                                          fname_surgery=c_dar.fname_darwin_surgery,\n",
    "                                          fname_ir=c_dar.fname_darwin_ir,\n",
    "                                          fname_save=c_dar.fname_dop_anno)"
   ]
  },
  {
   "cell_type": "code",
   "execution_count": 12,
   "metadata": {},
   "outputs": [],
   "source": [
    "df_f = obj_dop_anno.return_summary()\n",
    "df_f.head();"
   ]
  },
  {
   "cell_type": "code",
   "execution_count": null,
   "metadata": {},
   "outputs": [],
   "source": []
  }
 ],
 "metadata": {
  "kernelspec": {
   "display_name": "Python 3",
   "language": "python",
   "name": "python3"
  },
  "language_info": {
   "codemirror_mode": {
    "name": "ipython",
    "version": 3
   },
   "file_extension": ".py",
   "mimetype": "text/x-python",
   "name": "python",
   "nbconvert_exporter": "python",
   "pygments_lexer": "ipython3",
   "version": "3.6.9"
  }
 },
 "nbformat": 4,
 "nbformat_minor": 4
}
