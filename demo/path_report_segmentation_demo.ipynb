{
 "cells": [
  {
   "cell_type": "markdown",
   "metadata": {},
   "source": [
    "# Pathology Report Segmentation \n",
    "--------\n"
   ]
  },
  {
   "cell_type": "markdown",
   "metadata": {},
   "source": [
    "### WARNING BEFORE COMMITTING\n",
    "<span style=\"color:red\">Do not commit this demo where PHI is displayed!!</span>\n",
    "\n",
    "\n",
    "### Introduction\n",
    "\n",
    "The primary goal of this notebook is to break down pathology reports into sections and sub-sections. These consist of:\n",
    "\n",
    "- Report header\n",
    "- Specimens submitted\n",
    "- Clinical diagnosis\n",
    "- Pathological diagnosis\n",
    "    - Synoptic infomation\n",
    "    - Free-text\n",
    "- Addendums\n",
    "\n",
    "#### Annotations\n",
    "Once reports are broken down into their general subsections, specific attributes of the report are captured. These include:\n",
    "- Date of procedure (different from date of report)\n",
    "- Source accession number (Ex. specimen in current report was originally examined in a previous report)\n",
    "- Specimen name"
   ]
  },
  {
   "cell_type": "markdown",
   "metadata": {},
   "source": [
    "### Accessing This Jupyter Notebook on an MSK-MIND Machine from local machine: \n",
    "\n",
    "1) From MIND server, start Remote Jupyter Notebook:\n",
    "      \n",
    "       >> jupyter-lab --no-browser --port=8888\n",
    "    \n",
    "2) Listen to Forwarded Port on Local machine:\n",
    "   \n",
    "       >> ssh -N -f -L localhost:8080:localhost:8888 <USERNAME>@<MIND-SERVER-NAME>\n",
    "    \n",
    "3) Open local browser, notebook will be at localhost:8080\n",
    "\n",
    "Note: If you are completely running this notebok from your local machine, you can disregard these steps."
   ]
  },
  {
   "cell_type": "markdown",
   "metadata": {},
   "source": [
    "### Import libraries"
   ]
  },
  {
   "cell_type": "code",
   "execution_count": 1,
   "metadata": {},
   "outputs": [],
   "source": [
    "import sys  \n",
    "sys.path.insert(0, '../segmentation')\n",
    "sys.path.insert(0, '../annotations')\n",
    "sys.path.insert(0, '../synoptic_classification')\n",
    "sys.path.insert(0, '../')\n",
    "import os\n",
    "import pandas as pd\n",
    "from darwin_pathology import DarwinDiscoveryPathology\n",
    "from pathology_parse_surgical import ParseSurgicalPathology\n",
    "from pathology_parse_molecular import ParseMolecularPathology\n",
    "from pathology_parse_specimen_submitted import PathologyParseSpecSubmitted\n",
    "from pathology_parsing_surgical_specimens import ParseSurgicalPathologySpecimens\n",
    "from pathology_extract_accession import PathologyExtractAccession\n",
    "from pathology_extract_dop import PathologyExtractDOP\n",
    "from pathology_extract_dop_impact_wrapper import CombineAccessionDOPImpact\n",
    "from pathology_impact_summary_dop_annotator import PathologyImpactDOPAnno\n",
    "import constants_darwin_pathology as c_dar\n",
    "from utils_pathology import set_debug_console"
   ]
  },
  {
   "cell_type": "code",
   "execution_count": 2,
   "metadata": {},
   "outputs": [],
   "source": [
    "# Extend debug window\n",
    "set_debug_console()"
   ]
  },
  {
   "cell_type": "markdown",
   "metadata": {},
   "source": [
    "-----------------------\n",
    "## Create MSK-IMPACT pathology annotation summary table"
   ]
  },
  {
   "cell_type": "markdown",
   "metadata": {},
   "source": [
    "#### Parameters"
   ]
  },
  {
   "cell_type": "code",
   "execution_count": 3,
   "metadata": {},
   "outputs": [],
   "source": [
    "run_path_clean = True\n",
    "run_parse_surg = True\n",
    "run_parse_dmp = True\n",
    "run_parse_spec_sub = True\n",
    "run_parse_path_dx = True\n",
    "run_spec_sub_path_dx_combiner = False\n",
    "\n",
    "# TODO: Move the rest to annotation section\n",
    "run_parse_accession = True\n",
    "run_parse_dop = True\n",
    "run_CombineAccessionDOPImpact = True\n",
    "run_dop_extra_anno = True"
   ]
  },
  {
   "cell_type": "markdown",
   "metadata": {},
   "source": [
    "#### Filenames\n",
    "Filenames used for this demo are defined here: `clinical_data_mining/pathology_report_segmentation/constants_darwin_pathology.py`"
   ]
  },
  {
   "cell_type": "markdown",
   "metadata": {},
   "source": [
    "#### Column names"
   ]
  },
  {
   "cell_type": "code",
   "execution_count": 4,
   "metadata": {},
   "outputs": [],
   "source": [
    "## Constants\n",
    "col_label_access_num = 'ACCESSION_NUMBER'\n",
    "col_label_spec_num = 'SPECIMEN_NUMBER'\n",
    "col_spec_sub = 'SPECIMEN_SUBMITTED'"
   ]
  },
  {
   "cell_type": "markdown",
   "metadata": {},
   "source": [
    "\n",
    "-------\n",
    "## Run Code for header segmentation\n",
    "\n",
    "<font color=green> DarwinDiscoveryPathology</font>\n",
    "\n",
    "\n",
    "**Run initial cleaning of pathology table that comes directly from the DDP scrapper**\n",
    "- Source file: `darwin_pathology.py`\n",
    "\n",
    "- Input: Pathology report table from DDP (Typically `Darwin_Digital_Pathology_Reports.csv`)\n",
    "\n",
    "- Output: Dataframe returned with basic cleanning done (Typically: `table_pathology_clean.csv`)"
   ]
  },
  {
   "cell_type": "code",
   "execution_count": 5,
   "metadata": {},
   "outputs": [
    {
     "name": "stdout",
     "output_type": "stream",
     "text": [
      "Running DarwinDiscoveryPathology...\n",
      "Loading pathology/DDP_Pathology_Reports_20210209.tsv\n",
      "Saving pathology/table_pathology_clean.csv\n",
      "Saved.\n"
     ]
    }
   ],
   "source": [
    "# Recreate cleaned pathology data\n",
    "if run_path_clean:\n",
    "    print('Running DarwinDiscoveryPathology...')\n",
    "    obj_path = DarwinDiscoveryPathology(pathname=c_dar.pathname,\n",
    "                                         fname=c_dar.fname_path_ddp,  # Change name\n",
    "                                         fname_out=c_dar.fname_darwin_path_clean)"
   ]
  },
  {
   "cell_type": "code",
   "execution_count": 6,
   "metadata": {},
   "outputs": [
    {
     "data": {
      "text/html": [
       "<div>\n",
       "<style scoped>\n",
       "    .dataframe tbody tr th:only-of-type {\n",
       "        vertical-align: middle;\n",
       "    }\n",
       "\n",
       "    .dataframe tbody tr th {\n",
       "        vertical-align: top;\n",
       "    }\n",
       "\n",
       "    .dataframe thead th {\n",
       "        text-align: right;\n",
       "    }\n",
       "</style>\n",
       "<table border=\"1\" class=\"dataframe\">\n",
       "  <thead>\n",
       "    <tr style=\"text-align: right;\">\n",
       "      <th></th>\n",
       "      <th>P_ID</th>\n",
       "      <th>PATH_REPORT_TYPE</th>\n",
       "      <th>DTE_PATH_PROCEDURE</th>\n",
       "      <th>PATH_RPT_ID</th>\n",
       "      <th>ACCESSION_NUMBER</th>\n",
       "      <th>ASSOCIATED_PATH_REPORT_ID</th>\n",
       "      <th>DMP_ID</th>\n",
       "      <th>SAMPLE_ID</th>\n",
       "      <th>PATH_REPORT_NOTE</th>\n",
       "      <th>SPECIMEN_SUBMISSION_LIST</th>\n",
       "      <th>PATH_REPORT_TYPE_GENERAL</th>\n",
       "      <th>RPT_CHAR_LEN</th>\n",
       "    </tr>\n",
       "  </thead>\n",
       "  <tbody>\n",
       "    <tr>\n",
       "      <th>575370</th>\n",
       "      <td>1130006</td>\n",
       "      <td>Surgical Pathology</td>\n",
       "      <td>2007-08-28</td>\n",
       "      <td>10</td>\n",
       "      <td>S07-35014</td>\n",
       "      <td>NaN</td>\n",
       "      <td>NaN</td>\n",
       "      <td>NaN</td>\n",
       "      <td>PathDoc Version 1.1\\r\\nMRN: 35172806\\r\\nAccoun...</td>\n",
       "      <td>Specimens Submitted:\\r\\n1: SP: Right para-aort...</td>\n",
       "      <td>Surgical</td>\n",
       "      <td>9214</td>\n",
       "    </tr>\n",
       "    <tr>\n",
       "      <th>579680</th>\n",
       "      <td>986772</td>\n",
       "      <td>Surgical Pathology</td>\n",
       "      <td>2006-04-20</td>\n",
       "      <td>46</td>\n",
       "      <td>S06-15377</td>\n",
       "      <td>1503502</td>\n",
       "      <td>NaN</td>\n",
       "      <td>NaN</td>\n",
       "      <td>PathDoc Version 1.1\\r\\nMRN: 00317869\\r\\nAccoun...</td>\n",
       "      <td>Specimens Submitted:\\r\\n1: BI: Left breast (tl...</td>\n",
       "      <td>Surgical</td>\n",
       "      <td>2823</td>\n",
       "    </tr>\n",
       "    <tr>\n",
       "      <th>579226</th>\n",
       "      <td>1082701</td>\n",
       "      <td>Surgical Pathology</td>\n",
       "      <td>2006-06-16</td>\n",
       "      <td>75</td>\n",
       "      <td>S06-23341</td>\n",
       "      <td>NaN</td>\n",
       "      <td>NaN</td>\n",
       "      <td>NaN</td>\n",
       "      <td>PathDoc Version 1.1\\r\\nMRN: 35129311\\r\\nAccoun...</td>\n",
       "      <td>Specimens Submitted:\\r\\n1: SP: Sigmoid colon (...</td>\n",
       "      <td>Surgical</td>\n",
       "      <td>5246</td>\n",
       "    </tr>\n",
       "    <tr>\n",
       "      <th>579173</th>\n",
       "      <td>356717</td>\n",
       "      <td>Surgical Pathology</td>\n",
       "      <td>2006-06-22</td>\n",
       "      <td>110</td>\n",
       "      <td>S06-23994</td>\n",
       "      <td>NaN</td>\n",
       "      <td>NaN</td>\n",
       "      <td>NaN</td>\n",
       "      <td>PathDoc Version 1.1\\r\\nMRN: 00011541\\r\\nAccoun...</td>\n",
       "      <td>Specimens Submitted:\\r\\n1: SP: Hepatic artery ...</td>\n",
       "      <td>Surgical</td>\n",
       "      <td>2566</td>\n",
       "    </tr>\n",
       "    <tr>\n",
       "      <th>45004</th>\n",
       "      <td>1081931</td>\n",
       "      <td>Surgical Pathology</td>\n",
       "      <td>2006-06-23</td>\n",
       "      <td>133</td>\n",
       "      <td>S06-24315</td>\n",
       "      <td>NaN</td>\n",
       "      <td>NaN</td>\n",
       "      <td>NaN</td>\n",
       "      <td>PathDoc Version 1.1\\r\\nMRN: 35129246\\r\\nAccoun...</td>\n",
       "      <td>Specimens Submitted:\\r\\n1: SP: Lymph nodes, Ri...</td>\n",
       "      <td>Surgical</td>\n",
       "      <td>6788</td>\n",
       "    </tr>\n",
       "  </tbody>\n",
       "</table>\n",
       "</div>"
      ],
      "text/plain": [
       "           P_ID    PATH_REPORT_TYPE DTE_PATH_PROCEDURE  PATH_RPT_ID ACCESSION_NUMBER ASSOCIATED_PATH_REPORT_ID DMP_ID SAMPLE_ID                                   PATH_REPORT_NOTE                           SPECIMEN_SUBMISSION_LIST PATH_REPORT_TYPE_GENERAL  RPT_CHAR_LEN\n",
       "575370  1130006  Surgical Pathology         2007-08-28           10        S07-35014                       NaN    NaN       NaN  PathDoc Version 1.1\\r\\nMRN: 35172806\\r\\nAccoun...  Specimens Submitted:\\r\\n1: SP: Right para-aort...                 Surgical          9214\n",
       "579680   986772  Surgical Pathology         2006-04-20           46        S06-15377                   1503502    NaN       NaN  PathDoc Version 1.1\\r\\nMRN: 00317869\\r\\nAccoun...  Specimens Submitted:\\r\\n1: BI: Left breast (tl...                 Surgical          2823\n",
       "579226  1082701  Surgical Pathology         2006-06-16           75        S06-23341                       NaN    NaN       NaN  PathDoc Version 1.1\\r\\nMRN: 35129311\\r\\nAccoun...  Specimens Submitted:\\r\\n1: SP: Sigmoid colon (...                 Surgical          5246\n",
       "579173   356717  Surgical Pathology         2006-06-22          110        S06-23994                       NaN    NaN       NaN  PathDoc Version 1.1\\r\\nMRN: 00011541\\r\\nAccoun...  Specimens Submitted:\\r\\n1: SP: Hepatic artery ...                 Surgical          2566\n",
       "45004   1081931  Surgical Pathology         2006-06-23          133        S06-24315                       NaN    NaN       NaN  PathDoc Version 1.1\\r\\nMRN: 35129246\\r\\nAccoun...  Specimens Submitted:\\r\\n1: SP: Lymph nodes, Ri...                 Surgical          6788"
      ]
     },
     "execution_count": 6,
     "metadata": {},
     "output_type": "execute_result"
    }
   ],
   "source": [
    "obj_path.return_df().head()"
   ]
  },
  {
   "cell_type": "code",
   "execution_count": 7,
   "metadata": {},
   "outputs": [
    {
     "data": {
      "text/html": [
       "<div>\n",
       "<style scoped>\n",
       "    .dataframe tbody tr th:only-of-type {\n",
       "        vertical-align: middle;\n",
       "    }\n",
       "\n",
       "    .dataframe tbody tr th {\n",
       "        vertical-align: top;\n",
       "    }\n",
       "\n",
       "    .dataframe thead th {\n",
       "        text-align: right;\n",
       "    }\n",
       "</style>\n",
       "<table border=\"1\" class=\"dataframe\">\n",
       "  <thead>\n",
       "    <tr style=\"text-align: right;\">\n",
       "      <th></th>\n",
       "      <th>P_ID</th>\n",
       "      <th>PATH_REPORT_TYPE</th>\n",
       "      <th>DTE_PATH_PROCEDURE</th>\n",
       "      <th>PATH_RPT_ID</th>\n",
       "      <th>ACCESSION_NUMBER</th>\n",
       "      <th>ASSOCIATED_PATH_REPORT_ID</th>\n",
       "      <th>DMP_ID</th>\n",
       "      <th>SAMPLE_ID</th>\n",
       "      <th>PATH_REPORT_NOTE</th>\n",
       "      <th>SPECIMEN_SUBMISSION_LIST</th>\n",
       "      <th>PATH_REPORT_TYPE_GENERAL</th>\n",
       "      <th>RPT_CHAR_LEN</th>\n",
       "    </tr>\n",
       "  </thead>\n",
       "  <tbody>\n",
       "    <tr>\n",
       "      <th>41101</th>\n",
       "      <td>1637773</td>\n",
       "      <td>Diagnostic Molecular Pathology</td>\n",
       "      <td>2015-01-14</td>\n",
       "      <td>2408283</td>\n",
       "      <td>M15-816</td>\n",
       "      <td>2318448</td>\n",
       "      <td>P-0002099</td>\n",
       "      <td>P-0002099-T02-IM3</td>\n",
       "      <td>PathDoc Version 1.1\\r\\nMRN: 35434061\\r\\nAccoun...</td>\n",
       "      <td>Specimens Submitted:\\r\\n1:  Left testis and sp...</td>\n",
       "      <td>Molecular</td>\n",
       "      <td>4670</td>\n",
       "    </tr>\n",
       "    <tr>\n",
       "      <th>41102</th>\n",
       "      <td>1637773</td>\n",
       "      <td>Diagnostic Molecular Pathology</td>\n",
       "      <td>2015-01-14</td>\n",
       "      <td>2408283</td>\n",
       "      <td>M15-816</td>\n",
       "      <td>2318448</td>\n",
       "      <td>P-0002099</td>\n",
       "      <td>P-0002099-T02-IM5</td>\n",
       "      <td>PathDoc Version 1.1\\r\\nMRN: 35434061\\r\\nAccoun...</td>\n",
       "      <td>Specimens Submitted:\\r\\n1:  Left testis and sp...</td>\n",
       "      <td>Molecular</td>\n",
       "      <td>4670</td>\n",
       "    </tr>\n",
       "  </tbody>\n",
       "</table>\n",
       "</div>"
      ],
      "text/plain": [
       "          P_ID                PATH_REPORT_TYPE DTE_PATH_PROCEDURE  PATH_RPT_ID ACCESSION_NUMBER ASSOCIATED_PATH_REPORT_ID     DMP_ID          SAMPLE_ID                                   PATH_REPORT_NOTE                           SPECIMEN_SUBMISSION_LIST PATH_REPORT_TYPE_GENERAL  RPT_CHAR_LEN\n",
       "41101  1637773  Diagnostic Molecular Pathology         2015-01-14      2408283          M15-816                   2318448  P-0002099  P-0002099-T02-IM3  PathDoc Version 1.1\\r\\nMRN: 35434061\\r\\nAccoun...  Specimens Submitted:\\r\\n1:  Left testis and sp...                Molecular          4670\n",
       "41102  1637773  Diagnostic Molecular Pathology         2015-01-14      2408283          M15-816                   2318448  P-0002099  P-0002099-T02-IM5  PathDoc Version 1.1\\r\\nMRN: 35434061\\r\\nAccoun...  Specimens Submitted:\\r\\n1:  Left testis and sp...                Molecular          4670"
      ]
     },
     "execution_count": 7,
     "metadata": {},
     "output_type": "execute_result"
    }
   ],
   "source": [
    "# df_path_clean = obj_path.return_original_df()\n",
    "# df_path_clean[df_path_clean['Accession Number'] == 'M19-44183']\n",
    "df_path_clean = obj_path.return_df()\n",
    "df_path_clean[df_path_clean['ACCESSION_NUMBER'] == 'M15-816']\n"
   ]
  },
  {
   "cell_type": "markdown",
   "metadata": {},
   "source": [
    "### ParseSurgicalPathology\n",
    "**Parse main sections of surgical pathology reports**\n",
    "- Source file: `pathology_parse_surgical.py`\n",
    "- Input: Clean pathology report table from `DarwinDiscoveryPathology` (Typically `table_pathology_clean.csv`)\n",
    "\n",
    "- Output: Dataframe of surgical pathology reports (S-numbers) with main sections separated by column  (Typically: `table_pathology_surgical_notes_parsed.csv`)"
   ]
  },
  {
   "cell_type": "code",
   "execution_count": 5,
   "metadata": {},
   "outputs": [
    {
     "name": "stdout",
     "output_type": "stream",
     "text": [
      "Running ParseSurgicalPathology...\n"
     ]
    },
    {
     "name": "stderr",
     "output_type": "stream",
     "text": [
      "/home/fongc2/.local/lib/python3.6/site-packages/ipykernel_launcher.py:7: DtypeWarning: Columns (6,7) have mixed types.Specify dtype option on import or set low_memory=False.\n",
      "  import sys\n"
     ]
    },
    {
     "name": "stdout",
     "output_type": "stream",
     "text": [
      "Extracting Section: HEADER\n",
      "Extracting Section: IND_CLINICAL_DX_1\n",
      "Extracting Section: IND_SPEC_SUB_1\n",
      "Extracting Section: IND_PATH_DX_1\n",
      "Parsing Remaining Text\n",
      "Saving pathology/table_pathology_surgical_notes_parsed.csv\n",
      "Saved.\n"
     ]
    }
   ],
   "source": [
    "# Using the cleaned pathology table, parse the main sections of the surgical pathology note\n",
    "# surgical_pathology_parsing.py\n",
    "if run_parse_surg:\n",
    "    print('Running ParseSurgicalPathology...')\n",
    "    obj_path_parse = ParseSurgicalPathology(pathname=c_dar.pathname,\n",
    "                                            fname_path_clean=c_dar.fname_darwin_path_clean,\n",
    "                                            fname_save=c_dar.fname_darwin_path_surgical)"
   ]
  },
  {
   "cell_type": "code",
   "execution_count": 6,
   "metadata": {},
   "outputs": [
    {
     "data": {
      "text/html": [
       "<div>\n",
       "<style scoped>\n",
       "    .dataframe tbody tr th:only-of-type {\n",
       "        vertical-align: middle;\n",
       "    }\n",
       "\n",
       "    .dataframe tbody tr th {\n",
       "        vertical-align: top;\n",
       "    }\n",
       "\n",
       "    .dataframe thead th {\n",
       "        text-align: right;\n",
       "    }\n",
       "</style>\n",
       "<table border=\"1\" class=\"dataframe\">\n",
       "  <thead>\n",
       "    <tr style=\"text-align: right;\">\n",
       "      <th></th>\n",
       "      <th>P_ID</th>\n",
       "      <th>ACCESSION_NUMBER</th>\n",
       "      <th>PATH_NOTE_HEADER</th>\n",
       "      <th>PATH_NOTE_CLINICAL_DX</th>\n",
       "      <th>PATH_NOTE_SPEC_SUB</th>\n",
       "      <th>PATH_NOTE_PATH_DX</th>\n",
       "      <th>PATH_NOTE_OTHER</th>\n",
       "    </tr>\n",
       "  </thead>\n",
       "  <tbody>\n",
       "    <tr>\n",
       "      <th>116961</th>\n",
       "      <td>63</td>\n",
       "      <td>S18-31248</td>\n",
       "      <td>PathDoc Version 1.1\\r\\nMRN: 00184795\\r\\nAccoun...</td>\n",
       "      <td>Left lumpectomy. Bilateral calcifications. Ple...</td>\n",
       "      <td>1:  Breast, left; stereotactic biopsy bilat\\r\\...</td>\n",
       "      <td>1.  Breast, left; stereotactic biopsy bilat:  ...</td>\n",
       "      <td>I ATTEST THAT THE ABOVE DIAGNOSIS IS BASED UPO...</td>\n",
       "    </tr>\n",
       "    <tr>\n",
       "      <th>118435</th>\n",
       "      <td>63</td>\n",
       "      <td>S18-36445</td>\n",
       "      <td>PathDoc Version 1.1\\r\\nMRN: 00184795\\r\\nAccoun...</td>\n",
       "      <td>Breast, malignant neoplasm. 9/19/13 statu post...</td>\n",
       "      <td>1: Breast, left; needle localization excision ...</td>\n",
       "      <td>1.  Breast, left; needle localization excision...</td>\n",
       "      <td>I ATTEST THAT THE ABOVE DIAGNOSIS IS BASED UPO...</td>\n",
       "    </tr>\n",
       "    <tr>\n",
       "      <th>119210</th>\n",
       "      <td>63</td>\n",
       "      <td>S18-38353</td>\n",
       "      <td>PathDoc Version 1.1\\r\\nMRN: 00184795\\r\\nAccoun...</td>\n",
       "      <td>56 year old female history of left DCISand IDC...</td>\n",
       "      <td>1: Sentinel node #1 level 1 left axilla (fsjr)...</td>\n",
       "      <td>Summary of findings in this case: Left Breast\\...</td>\n",
       "      <td>I ATTEST THAT THE ABOVE DIAGNOSIS IS BASED UPO...</td>\n",
       "    </tr>\n",
       "    <tr>\n",
       "      <th>147622</th>\n",
       "      <td>63</td>\n",
       "      <td>S19-49361</td>\n",
       "      <td>PathDoc Version 1.1\\r\\nMRN: 00184795\\r\\nAccoun...</td>\n",
       "      <td>History of breast ca.  Left exchange.</td>\n",
       "      <td>1: Left tissue expander removed from chest wall</td>\n",
       "      <td>1.  Left tissue expander removed from chest wa...</td>\n",
       "      <td>I ATTEST THAT THE ABOVE DIAGNOSIS IS BASED UPO...</td>\n",
       "    </tr>\n",
       "    <tr>\n",
       "      <th>11087</th>\n",
       "      <td>162</td>\n",
       "      <td>S03-16882</td>\n",
       "      <td>PathDoc Version 1.1\\r\\nMRN: 35001251\\r\\nAccoun...</td>\n",
       "      <td>Left parotid gland.\\r\\nInfiltrating squamous c...</td>\n",
       "      <td>1: A. ZYGOMATIC FASCIA, B. FACIAL NERVE MARGIN...</td>\n",
       "      <td>1A.     SOFT TISSUE, ZYGOMATIC FASCIA; BIOPSY ...</td>\n",
       "      <td>I ATTEST THAT THE ABOVE DIAGNOSIS IS BASED UPO...</td>\n",
       "    </tr>\n",
       "  </tbody>\n",
       "</table>\n",
       "</div>"
      ],
      "text/plain": [
       "        P_ID ACCESSION_NUMBER                                   PATH_NOTE_HEADER                              PATH_NOTE_CLINICAL_DX                                 PATH_NOTE_SPEC_SUB                                  PATH_NOTE_PATH_DX                                    PATH_NOTE_OTHER\n",
       "116961    63        S18-31248  PathDoc Version 1.1\\r\\nMRN: 00184795\\r\\nAccoun...  Left lumpectomy. Bilateral calcifications. Ple...  1:  Breast, left; stereotactic biopsy bilat\\r\\...  1.  Breast, left; stereotactic biopsy bilat:  ...  I ATTEST THAT THE ABOVE DIAGNOSIS IS BASED UPO...\n",
       "118435    63        S18-36445  PathDoc Version 1.1\\r\\nMRN: 00184795\\r\\nAccoun...  Breast, malignant neoplasm. 9/19/13 statu post...  1: Breast, left; needle localization excision ...  1.  Breast, left; needle localization excision...  I ATTEST THAT THE ABOVE DIAGNOSIS IS BASED UPO...\n",
       "119210    63        S18-38353  PathDoc Version 1.1\\r\\nMRN: 00184795\\r\\nAccoun...  56 year old female history of left DCISand IDC...  1: Sentinel node #1 level 1 left axilla (fsjr)...  Summary of findings in this case: Left Breast\\...  I ATTEST THAT THE ABOVE DIAGNOSIS IS BASED UPO...\n",
       "147622    63        S19-49361  PathDoc Version 1.1\\r\\nMRN: 00184795\\r\\nAccoun...              History of breast ca.  Left exchange.    1: Left tissue expander removed from chest wall  1.  Left tissue expander removed from chest wa...  I ATTEST THAT THE ABOVE DIAGNOSIS IS BASED UPO...\n",
       "11087    162        S03-16882  PathDoc Version 1.1\\r\\nMRN: 35001251\\r\\nAccoun...  Left parotid gland.\\r\\nInfiltrating squamous c...  1: A. ZYGOMATIC FASCIA, B. FACIAL NERVE MARGIN...  1A.     SOFT TISSUE, ZYGOMATIC FASCIA; BIOPSY ...  I ATTEST THAT THE ABOVE DIAGNOSIS IS BASED UPO..."
      ]
     },
     "execution_count": 6,
     "metadata": {},
     "output_type": "execute_result"
    }
   ],
   "source": [
    "df_obj_path_parse = obj_path_parse.return_df_summary()\n",
    "df_obj_path_parse.head()\n",
    "# df_obj_path_parse['DMP_ID'].nunique()\n"
   ]
  },
  {
   "cell_type": "markdown",
   "metadata": {},
   "source": [
    "### ParseMolecularPathology\n",
    "**Parse main sections of molecular pathology (MSK-IMPACT) reports**\n",
    "- Source file: `pathology_parse_molecular.py`\n",
    "- Input: Clean pathology report table from `DarwinDiscoveryPathology` (Typically `table_pathology_clean.csv`)\n",
    "\n",
    "- Output: Dataframe of molecular pathology reports (M-numbers) with main sections separated by column  (Typically: `table_pathology_molecular_notes_parsed.csv`)"
   ]
  },
  {
   "cell_type": "code",
   "execution_count": 6,
   "metadata": {},
   "outputs": [
    {
     "name": "stdout",
     "output_type": "stream",
     "text": [
      "Running ParseMolecularPathology...\n",
      "Loading clean pathology table\n",
      "Number of samples in list: 224893\n",
      "Extracting Section: IND_SPEC_SUB_1\n",
      "Extracting Section: IND_PATH_DX_1\n",
      "Extracting Section: IND_HEADER_0\n",
      "Saving pathology/table_pathology_molecular_notes_parsed.csv\n",
      "Saved.\n"
     ]
    }
   ],
   "source": [
    "# Using the cleaned pathology table, parse the main sections of the molecular pathology note\n",
    "if run_parse_dmp:\n",
    "    print('Running ParseMolecularPathology...')\n",
    "    obj_parse_dmp = ParseMolecularPathology(pathname=c_dar.pathname,\n",
    "                                           fname_path_clean=c_dar.fname_darwin_path_clean,\n",
    "                                           fname_save=c_dar.fname_darwin_path_molecular)"
   ]
  },
  {
   "cell_type": "code",
   "execution_count": 7,
   "metadata": {},
   "outputs": [
    {
     "data": {
      "text/html": [
       "<div>\n",
       "<style scoped>\n",
       "    .dataframe tbody tr th:only-of-type {\n",
       "        vertical-align: middle;\n",
       "    }\n",
       "\n",
       "    .dataframe tbody tr th {\n",
       "        vertical-align: top;\n",
       "    }\n",
       "\n",
       "    .dataframe thead th {\n",
       "        text-align: right;\n",
       "    }\n",
       "</style>\n",
       "<table border=\"1\" class=\"dataframe\">\n",
       "  <thead>\n",
       "    <tr style=\"text-align: right;\">\n",
       "      <th></th>\n",
       "      <th>P_ID</th>\n",
       "      <th>ACCESSION_NUMBER</th>\n",
       "      <th>DMP_NOTE_RPT_HEADER</th>\n",
       "      <th>DMP_NOTE_SPEC_SUB</th>\n",
       "      <th>DMP_NOTE_DX_AND_OTHER</th>\n",
       "    </tr>\n",
       "  </thead>\n",
       "  <tbody>\n",
       "    <tr>\n",
       "      <th>147195</th>\n",
       "      <td>63</td>\n",
       "      <td>M18-15941</td>\n",
       "      <td>PathDoc Version 1.1\\r\\nMRN: 00184795\\r\\nAccoun...</td>\n",
       "      <td>1:  Breast, left; stereotactic biopsy bilat (M...</td>\n",
       "      <td>HER2/NEU GENE STATUS - AMPLIFICATION IS DETECT...</td>\n",
       "    </tr>\n",
       "    <tr>\n",
       "      <th>152666</th>\n",
       "      <td>63</td>\n",
       "      <td>M18-19170</td>\n",
       "      <td>PathDoc Version 1.1\\r\\nMRN: 00184795\\r\\nAccoun...</td>\n",
       "      <td>1: EDTA Blood, Matched Normal for MSK-IMPACT</td>\n",
       "      <td>BLOOD RECEIVED FOR USE AS MATCHED NORMAL FOR M...</td>\n",
       "    </tr>\n",
       "    <tr>\n",
       "      <th>155518</th>\n",
       "      <td>63</td>\n",
       "      <td>M18-19882</td>\n",
       "      <td>PathDoc Version 1.1\\r\\nMRN: 00184795\\r\\nAccoun...</td>\n",
       "      <td>1: Breast, left, mastectomy (MSK:S18-38353/3-1...</td>\n",
       "      <td>TEST FAILURE (See note)\\r\\n\\r\\nNote: Please se...</td>\n",
       "    </tr>\n",
       "    <tr>\n",
       "      <th>154752</th>\n",
       "      <td>63</td>\n",
       "      <td>M18-19994</td>\n",
       "      <td>PathDoc Version 1.1\\r\\nMRN: 00184795\\r\\nAccoun...</td>\n",
       "      <td>1: Breast, left, mastectomy (MSK:S18-38353/3-1...</td>\n",
       "      <td>NEGATIVE FOR SOMATIC ALTERATIONS IN THE CLINIC...</td>\n",
       "    </tr>\n",
       "    <tr>\n",
       "      <th>196364</th>\n",
       "      <td>162</td>\n",
       "      <td>DMG19-3288</td>\n",
       "      <td>PathDoc Version 1.1\\r\\nMRN: 35001251\\r\\nAccoun...</td>\n",
       "      <td>1: DNA from Peripheral Blood (M19-10514, DOP: ...</td>\n",
       "      <td>TEST PERFORMED:\\r\\nSecondary Germline MSK-IMPA...</td>\n",
       "    </tr>\n",
       "  </tbody>\n",
       "</table>\n",
       "</div>"
      ],
      "text/plain": [
       "        P_ID ACCESSION_NUMBER                                DMP_NOTE_RPT_HEADER                                  DMP_NOTE_SPEC_SUB                              DMP_NOTE_DX_AND_OTHER\n",
       "147195    63        M18-15941  PathDoc Version 1.1\\r\\nMRN: 00184795\\r\\nAccoun...  1:  Breast, left; stereotactic biopsy bilat (M...  HER2/NEU GENE STATUS - AMPLIFICATION IS DETECT...\n",
       "152666    63        M18-19170  PathDoc Version 1.1\\r\\nMRN: 00184795\\r\\nAccoun...       1: EDTA Blood, Matched Normal for MSK-IMPACT  BLOOD RECEIVED FOR USE AS MATCHED NORMAL FOR M...\n",
       "155518    63        M18-19882  PathDoc Version 1.1\\r\\nMRN: 00184795\\r\\nAccoun...  1: Breast, left, mastectomy (MSK:S18-38353/3-1...  TEST FAILURE (See note)\\r\\n\\r\\nNote: Please se...\n",
       "154752    63        M18-19994  PathDoc Version 1.1\\r\\nMRN: 00184795\\r\\nAccoun...  1: Breast, left, mastectomy (MSK:S18-38353/3-1...  NEGATIVE FOR SOMATIC ALTERATIONS IN THE CLINIC...\n",
       "196364   162       DMG19-3288  PathDoc Version 1.1\\r\\nMRN: 35001251\\r\\nAccoun...  1: DNA from Peripheral Blood (M19-10514, DOP: ...  TEST PERFORMED:\\r\\nSecondary Germline MSK-IMPA..."
      ]
     },
     "execution_count": 7,
     "metadata": {},
     "output_type": "execute_result"
    }
   ],
   "source": [
    "df_obj_parse_dmp = obj_parse_dmp.return_df_summary()\n",
    "df_obj_parse_dmp.head()"
   ]
  },
  {
   "cell_type": "markdown",
   "metadata": {},
   "source": [
    "### PathologyParseSpecSubmitted\n",
    "**Parses specimen submitted column into individual parts**\n",
    "- Source file: `pathology_parse_specimen_submitted.py`\n",
    "- Input: \n",
    "    - Clean pathology report table from `DarwinDiscoveryPathology` (Typically `table_pathology_clean.csv`)\n",
    "    - Column name for specimens submitted\n",
    "    - List of column names used as the index for the output (Typically only Patient ID and accession number is needed)\n",
    "\n",
    "- Output: Dataframe of specimens submitted. Each row is a part number of a report (Typically: `table_pathology_col_spec_sub.csv`)"
   ]
  },
  {
   "cell_type": "code",
   "execution_count": 8,
   "metadata": {},
   "outputs": [
    {
     "name": "stdout",
     "output_type": "stream",
     "text": [
      "Running PathologyParseSpecSubmitted...\n",
      "Loading pathology table containing specimen submitted info\n",
      "Parsing Specimen List\n",
      "Saving pathology/table_pathology_col_spec_sub.csv\n",
      "Saved.\n"
     ]
    }
   ],
   "source": [
    "if run_parse_spec_sub:\n",
    "    # Parse the individual part descriptions from the specimen submitted column of parsed reports\n",
    "    # Segment specimen submissions for molecular path\n",
    "    print('Running PathologyParseSpecSubmitted...')\n",
    "    obj_spec_sub = PathologyParseSpecSubmitted(pathname=c_dar.pathname,\n",
    "                                              fname_path_parsed=c_dar.fname_darwin_path_clean,\n",
    "                                              col_spec_sub='SPECIMEN_SUBMISSION_LIST',\n",
    "                                              list_cols_id=['P_ID', 'ACCESSION_NUMBER'],\n",
    "                                              fname_save=c_dar.fname_darwin_path_col_spec_sub)"
   ]
  },
  {
   "cell_type": "code",
   "execution_count": 12,
   "metadata": {},
   "outputs": [
    {
     "data": {
      "text/html": [
       "<div>\n",
       "<style scoped>\n",
       "    .dataframe tbody tr th:only-of-type {\n",
       "        vertical-align: middle;\n",
       "    }\n",
       "\n",
       "    .dataframe tbody tr th {\n",
       "        vertical-align: top;\n",
       "    }\n",
       "\n",
       "    .dataframe thead th {\n",
       "        text-align: right;\n",
       "    }\n",
       "</style>\n",
       "<table border=\"1\" class=\"dataframe\">\n",
       "  <thead>\n",
       "    <tr style=\"text-align: right;\">\n",
       "      <th></th>\n",
       "      <th>P_ID</th>\n",
       "      <th>ACCESSION_NUMBER</th>\n",
       "      <th>SPECIMEN_NUMBER</th>\n",
       "      <th>SPECIMEN_SUBMITTED</th>\n",
       "    </tr>\n",
       "  </thead>\n",
       "  <tbody>\n",
       "    <tr>\n",
       "      <th>0</th>\n",
       "      <td>1130006</td>\n",
       "      <td>S07-35014</td>\n",
       "      <td>1</td>\n",
       "      <td>SP: Right para-aortic lymph nodes (am)</td>\n",
       "    </tr>\n",
       "    <tr>\n",
       "      <th>1</th>\n",
       "      <td>1130006</td>\n",
       "      <td>S07-35014</td>\n",
       "      <td>2</td>\n",
       "      <td>SP: Right common iliac lymph nodes (am)</td>\n",
       "    </tr>\n",
       "    <tr>\n",
       "      <th>2</th>\n",
       "      <td>1130006</td>\n",
       "      <td>S07-35014</td>\n",
       "      <td>3</td>\n",
       "      <td>SP: Left para-aortic lymph nodes (am)</td>\n",
       "    </tr>\n",
       "    <tr>\n",
       "      <th>3</th>\n",
       "      <td>1130006</td>\n",
       "      <td>S07-35014</td>\n",
       "      <td>4</td>\n",
       "      <td>SP: Left common iliac lymph nodes (am)</td>\n",
       "    </tr>\n",
       "    <tr>\n",
       "      <th>4</th>\n",
       "      <td>1130006</td>\n",
       "      <td>S07-35014</td>\n",
       "      <td>5</td>\n",
       "      <td>SP: Left external iliac lymph nodes (am)</td>\n",
       "    </tr>\n",
       "    <tr>\n",
       "      <th>5</th>\n",
       "      <td>1130006</td>\n",
       "      <td>S07-35014</td>\n",
       "      <td>6</td>\n",
       "      <td>SP: Left obturator lymph node (am)</td>\n",
       "    </tr>\n",
       "    <tr>\n",
       "      <th>6</th>\n",
       "      <td>1130006</td>\n",
       "      <td>S07-35014</td>\n",
       "      <td>7</td>\n",
       "      <td>SP: Right external iliac lymph node (am)</td>\n",
       "    </tr>\n",
       "    <tr>\n",
       "      <th>7</th>\n",
       "      <td>1130006</td>\n",
       "      <td>S07-35014</td>\n",
       "      <td>8</td>\n",
       "      <td>SP: Right obturator lymph node (am0 9: SP: Ute...</td>\n",
       "    </tr>\n",
       "    <tr>\n",
       "      <th>8</th>\n",
       "      <td>986772</td>\n",
       "      <td>S06-15377</td>\n",
       "      <td>1</td>\n",
       "      <td>BI: Left breast (tl)</td>\n",
       "    </tr>\n",
       "    <tr>\n",
       "      <th>9</th>\n",
       "      <td>986772</td>\n",
       "      <td>S06-15377</td>\n",
       "      <td>2</td>\n",
       "      <td>BI: Left breast (5cm) (tl)</td>\n",
       "    </tr>\n",
       "  </tbody>\n",
       "</table>\n",
       "</div>"
      ],
      "text/plain": [
       "      P_ID ACCESSION_NUMBER SPECIMEN_NUMBER                                 SPECIMEN_SUBMITTED\n",
       "0  1130006        S07-35014               1             SP: Right para-aortic lymph nodes (am)\n",
       "1  1130006        S07-35014               2            SP: Right common iliac lymph nodes (am)\n",
       "2  1130006        S07-35014               3              SP: Left para-aortic lymph nodes (am)\n",
       "3  1130006        S07-35014               4             SP: Left common iliac lymph nodes (am)\n",
       "4  1130006        S07-35014               5           SP: Left external iliac lymph nodes (am)\n",
       "5  1130006        S07-35014               6                 SP: Left obturator lymph node (am)\n",
       "6  1130006        S07-35014               7           SP: Right external iliac lymph node (am)\n",
       "7  1130006        S07-35014               8  SP: Right obturator lymph node (am0 9: SP: Ute...\n",
       "8   986772        S06-15377               1                               BI: Left breast (tl)\n",
       "9   986772        S06-15377               2                         BI: Left breast (5cm) (tl)"
      ]
     },
     "execution_count": 12,
     "metadata": {},
     "output_type": "execute_result"
    }
   ],
   "source": [
    "df_spec_sub = obj_spec_sub.return_df()\n",
    "df_spec_sub.head(10)"
   ]
  },
  {
   "cell_type": "markdown",
   "metadata": {},
   "source": [
    "### ParseSurgicalPathologySpecimens\n",
    "**Parses specimen submitted SECTION in surgical path reports into individual parts**\n",
    "- Source file: `pathology_parsing_surgical_specimens.py`\n",
    "- Input: Parsed surgical pathology report table (Main headers) from `ParseSurgicalPathology` (Typically `table_pathology_surgical_notes_parsed.csv`)\n",
    "\n",
    "\n",
    "- Output: Dataframe of specimens submitted. Each row is a part number of a report (Typically: `table_pathology_surgical_samples_parsed_specimen.csv`)"
   ]
  },
  {
   "cell_type": "code",
   "execution_count": 5,
   "metadata": {},
   "outputs": [
    {
     "name": "stdout",
     "output_type": "stream",
     "text": [
      "Running ParseSurgicalPathologySpecimens...\n",
      "Parsing Pathology Diagnosis Section\n",
      "Elongating Parsed Pathology Data\n",
      "Saving pathology/table_pathology_surgical_samples_parsed_specimen.csv\n",
      "Saved.\n"
     ]
    }
   ],
   "source": [
    "if run_parse_path_dx:\n",
    "    print('Running ParseSurgicalPathologySpecimens...')\n",
    "    pathname = c_dar.pathname\n",
    "    fname_out_pathology_specimens_parsed = c_dar.fname_darwin_path_clean_parsed_specimen\n",
    "    fname_darwin_pathology_parsed = c_dar.fname_darwin_path_surgical\n",
    "    obj_parse = ParseSurgicalPathologySpecimens(pathname=pathname,\n",
    "                                                fname_darwin_pathology_parsed=fname_darwin_pathology_parsed,\n",
    "                                                fname_out_pathology_specimens_parsed=fname_out_pathology_specimens_parsed)"
   ]
  },
  {
   "cell_type": "code",
   "execution_count": 6,
   "metadata": {},
   "outputs": [
    {
     "data": {
      "text/html": [
       "<div>\n",
       "<style scoped>\n",
       "    .dataframe tbody tr th:only-of-type {\n",
       "        vertical-align: middle;\n",
       "    }\n",
       "\n",
       "    .dataframe tbody tr th {\n",
       "        vertical-align: top;\n",
       "    }\n",
       "\n",
       "    .dataframe thead th {\n",
       "        text-align: right;\n",
       "    }\n",
       "</style>\n",
       "<table border=\"1\" class=\"dataframe\">\n",
       "  <thead>\n",
       "    <tr style=\"text-align: right;\">\n",
       "      <th></th>\n",
       "      <th>ACCESSION_NUMBER</th>\n",
       "      <th>PATH_DX_SPEC_NUM</th>\n",
       "      <th>PATH_DX_SPEC_TITLE</th>\n",
       "      <th>PATH_DX_SPEC_DESC</th>\n",
       "    </tr>\n",
       "  </thead>\n",
       "  <tbody>\n",
       "    <tr>\n",
       "      <th>0</th>\n",
       "      <td>H16-6456</td>\n",
       "      <td>1.0</td>\n",
       "      <td>(220) Right Lower Abdomen, Biopsy- Punch, Phot...</td>\n",
       "      <td>-Myeloid sarcoma.\\r\\n\\r\\n\\r\\nMORPHOLOGY\\r\\nThe...</td>\n",
       "    </tr>\n",
       "    <tr>\n",
       "      <th>1</th>\n",
       "      <td>M16-2183</td>\n",
       "      <td>0.0</td>\n",
       "      <td>NaN</td>\n",
       "      <td>NaN</td>\n",
       "    </tr>\n",
       "    <tr>\n",
       "      <th>2</th>\n",
       "      <td>S00-10044</td>\n",
       "      <td>1.0</td>\n",
       "      <td>BLADDER; BIOPSY</td>\n",
       "      <td>- PAPILLARY UROTHELIAL NEOPLASM OF LOW MALIGNA...</td>\n",
       "    </tr>\n",
       "    <tr>\n",
       "      <th>3</th>\n",
       "      <td>S00-10088</td>\n",
       "      <td>1.0</td>\n",
       "      <td>PROSTATE AND SEMINAL VESICLES; RADICAL PROSTAT...</td>\n",
       "      <td>- ADENOCARCINOMA OF PROSTATE.  THE GLEASON'S G...</td>\n",
       "    </tr>\n",
       "    <tr>\n",
       "      <th>4</th>\n",
       "      <td>S00-10088</td>\n",
       "      <td>2.0</td>\n",
       "      <td>LYMPH NODE, RIGHT PELVIC; EXCISION</td>\n",
       "      <td>- NO TUMOR SEEN IN FIVE LYMPH NODES (0/5).</td>\n",
       "    </tr>\n",
       "  </tbody>\n",
       "</table>\n",
       "</div>"
      ],
      "text/plain": [
       "  ACCESSION_NUMBER  PATH_DX_SPEC_NUM                                 PATH_DX_SPEC_TITLE                                  PATH_DX_SPEC_DESC\n",
       "0         H16-6456               1.0  (220) Right Lower Abdomen, Biopsy- Punch, Phot...  -Myeloid sarcoma.\\r\\n\\r\\n\\r\\nMORPHOLOGY\\r\\nThe...\n",
       "1         M16-2183               0.0                                                NaN                                                NaN\n",
       "2        S00-10044               1.0                                    BLADDER; BIOPSY  - PAPILLARY UROTHELIAL NEOPLASM OF LOW MALIGNA...\n",
       "3        S00-10088               1.0  PROSTATE AND SEMINAL VESICLES; RADICAL PROSTAT...  - ADENOCARCINOMA OF PROSTATE.  THE GLEASON'S G...\n",
       "4        S00-10088               2.0                 LYMPH NODE, RIGHT PELVIC; EXCISION         - NO TUMOR SEEN IN FIVE LYMPH NODES (0/5)."
      ]
     },
     "execution_count": 6,
     "metadata": {},
     "output_type": "execute_result"
    }
   ],
   "source": [
    "df_surg_path_parsed_spec = obj_parse.return_df_parsed_spec()\n",
    "df_surg_path_parsed_spec.head()\n",
    "\n"
   ]
  },
  {
   "cell_type": "code",
   "execution_count": 20,
   "metadata": {},
   "outputs": [
    {
     "name": "stdout",
     "output_type": "stream",
     "text": [
      "(440280, 4)\n",
      "6775\n"
     ]
    }
   ],
   "source": [
    "print(df_surg_path_parsed_spec.shape)\n",
    "print(df_surg_path_parsed_spec['PATH_DX_SPEC_TITLE'].isnull().sum())\n",
    "\n",
    "df_surg_path_parsed_spec[df_surg_path_parsed_spec['PATH_DX_SPEC_NUM'] == 0]\n",
    "df_surg_path_parsed_spec.loc[df_surg_path_parsed_spec['PATH_DX_SPEC_NUM'] == 0, 'ACCESSION_NUMBER'].str[1:3].value_counts();"
   ]
  },
  {
   "cell_type": "code",
   "execution_count": 19,
   "metadata": {},
   "outputs": [
    {
     "data": {
      "text/html": [
       "<div>\n",
       "<style scoped>\n",
       "    .dataframe tbody tr th:only-of-type {\n",
       "        vertical-align: middle;\n",
       "    }\n",
       "\n",
       "    .dataframe tbody tr th {\n",
       "        vertical-align: top;\n",
       "    }\n",
       "\n",
       "    .dataframe thead th {\n",
       "        text-align: right;\n",
       "    }\n",
       "</style>\n",
       "<table border=\"1\" class=\"dataframe\">\n",
       "  <thead>\n",
       "    <tr style=\"text-align: right;\">\n",
       "      <th></th>\n",
       "      <th>P_ID</th>\n",
       "      <th>ACCESSION_NUMBER</th>\n",
       "      <th>PATH_NOTE_HEADER</th>\n",
       "      <th>PATH_NOTE_CLINICAL_DX</th>\n",
       "      <th>PATH_NOTE_SPEC_SUB</th>\n",
       "      <th>PATH_NOTE_PATH_DX</th>\n",
       "      <th>PATH_NOTE_OTHER</th>\n",
       "    </tr>\n",
       "  </thead>\n",
       "  <tbody>\n",
       "    <tr>\n",
       "      <th>68601</th>\n",
       "      <td>1578551</td>\n",
       "      <td>M16-2183</td>\n",
       "      <td>PathDoc Version 1.1\\r\\nMRN: 35400711\\r\\nAccoun...</td>\n",
       "      <td>NaN</td>\n",
       "      <td>1:  Normal BLOOD\\r\\n\\r\\n\\r\\n\\r\\nDIAGNOSTIC INT...</td>\n",
       "      <td>NaN</td>\n",
       "      <td>NaN</td>\n",
       "    </tr>\n",
       "  </tbody>\n",
       "</table>\n",
       "</div>"
      ],
      "text/plain": [
       "          P_ID ACCESSION_NUMBER                                   PATH_NOTE_HEADER PATH_NOTE_CLINICAL_DX                                 PATH_NOTE_SPEC_SUB PATH_NOTE_PATH_DX PATH_NOTE_OTHER\n",
       "68601  1578551         M16-2183  PathDoc Version 1.1\\r\\nMRN: 35400711\\r\\nAccoun...                   NaN  1:  Normal BLOOD\\r\\n\\r\\n\\r\\n\\r\\nDIAGNOSTIC INT...               NaN             NaN"
      ]
     },
     "execution_count": 19,
     "metadata": {},
     "output_type": "execute_result"
    }
   ],
   "source": [
    "df_surg_path_parsed = obj_parse.return_df_parsed()\n",
    "df_surg_path_parsed[df_surg_path_parsed['ACCESSION_NUMBER'] == 'M16-2183']"
   ]
  },
  {
   "cell_type": "markdown",
   "metadata": {},
   "source": [
    "### run_spec_sub_path_dx_combiner\n",
    "##### TODO!!! \n",
    "This code will combine specimen submitted values from column version and \"parsed section in the reports\" version"
   ]
  },
  {
   "cell_type": "code",
   "execution_count": null,
   "metadata": {},
   "outputs": [],
   "source": [
    "if run_spec_sub_path_dx_combiner:\n",
    "    print('Running Combiner...')\n",
    "    run = None\n",
    "\n",
    "print('Complete!')"
   ]
  },
  {
   "cell_type": "markdown",
   "metadata": {},
   "source": [
    "----------------\n",
    "## Run code for abstracting elements for annotations\n",
    "Once pathology reports are segmented, abstract data for annotations"
   ]
  },
  {
   "cell_type": "markdown",
   "metadata": {},
   "source": [
    "### PathologyExtractAccession\n",
    "**Automatically abstracts source accession number for specimen submitted parts**\n",
    "- Source file: `pathology_extract_accession.py`\n",
    "- Input: Dataframe of specimens submitted. Each row is a part number of a report (Typically: `table_pathology_col_spec_sub.csv`)\n",
    "\n",
    "- Output: Dataframe of accession and part number embedded in free-text (Typically: `path_accessions.csv`)"
   ]
  },
  {
   "cell_type": "code",
   "execution_count": 21,
   "metadata": {},
   "outputs": [
    {
     "name": "stdout",
     "output_type": "stream",
     "text": [
      "Running PathologyExtractAccession...\n",
      "Extracting Matching Accession Numbers\n"
     ]
    },
    {
     "ename": "KeyError",
     "evalue": "\"['DMP_ID'] not in index\"",
     "output_type": "error",
     "traceback": [
      "\u001b[0;31m---------------------------------------------------------------------------\u001b[0m",
      "\u001b[0;31mKeyError\u001b[0m                                  Traceback (most recent call last)",
      "\u001b[0;32m<ipython-input-21-38f75edcfb93>\u001b[0m in \u001b[0;36m<module>\u001b[0;34m\u001b[0m\n\u001b[1;32m      6\u001b[0m                                                 \u001b[0mcol_label_spec_num\u001b[0m\u001b[0;34m=\u001b[0m\u001b[0mcol_label_spec_num\u001b[0m\u001b[0;34m,\u001b[0m\u001b[0;34m\u001b[0m\u001b[0;34m\u001b[0m\u001b[0m\n\u001b[1;32m      7\u001b[0m                                                 \u001b[0mcol_spec_sub\u001b[0m\u001b[0;34m=\u001b[0m\u001b[0mcol_spec_sub\u001b[0m\u001b[0;34m,\u001b[0m\u001b[0;34m\u001b[0m\u001b[0;34m\u001b[0m\u001b[0m\n\u001b[0;32m----> 8\u001b[0;31m                                                 fname_out=c_dar.fname_accessions)\n\u001b[0m",
      "\u001b[0;32m~/github/pathology_report_segmentation/annotations/pathology_extract_accession.py\u001b[0m in \u001b[0;36m__init__\u001b[0;34m(self, pathname, fname, col_label_access_num, col_label_spec_num, col_spec_sub, fname_out)\u001b[0m\n\u001b[1;32m     29\u001b[0m         \u001b[0mself\u001b[0m\u001b[0;34m.\u001b[0m\u001b[0m_fname_out\u001b[0m \u001b[0;34m=\u001b[0m \u001b[0mfname_out\u001b[0m\u001b[0;34m\u001b[0m\u001b[0;34m\u001b[0m\u001b[0m\n\u001b[1;32m     30\u001b[0m \u001b[0;34m\u001b[0m\u001b[0m\n\u001b[0;32m---> 31\u001b[0;31m         \u001b[0mself\u001b[0m\u001b[0;34m.\u001b[0m\u001b[0m_process_data\u001b[0m\u001b[0;34m(\u001b[0m\u001b[0;34m)\u001b[0m\u001b[0;34m\u001b[0m\u001b[0;34m\u001b[0m\u001b[0m\n\u001b[0m\u001b[1;32m     32\u001b[0m \u001b[0;34m\u001b[0m\u001b[0m\n\u001b[1;32m     33\u001b[0m     \u001b[0;32mdef\u001b[0m \u001b[0m_process_data\u001b[0m\u001b[0;34m(\u001b[0m\u001b[0mself\u001b[0m\u001b[0;34m)\u001b[0m\u001b[0;34m:\u001b[0m\u001b[0;34m\u001b[0m\u001b[0;34m\u001b[0m\u001b[0m\n",
      "\u001b[0;32m~/github/pathology_report_segmentation/annotations/pathology_extract_accession.py\u001b[0m in \u001b[0;36m_process_data\u001b[0;34m(self)\u001b[0m\n\u001b[1;32m     41\u001b[0m \u001b[0;34m\u001b[0m\u001b[0m\n\u001b[1;32m     42\u001b[0m         \u001b[0;31m# Extract accession numbers from specimen submitted section\u001b[0m\u001b[0;34m\u001b[0m\u001b[0;34m\u001b[0m\u001b[0;34m\u001b[0m\u001b[0m\n\u001b[0;32m---> 43\u001b[0;31m         \u001b[0mdf_path\u001b[0m \u001b[0;34m=\u001b[0m \u001b[0mself\u001b[0m\u001b[0;34m.\u001b[0m\u001b[0m_extract_accession\u001b[0m\u001b[0;34m(\u001b[0m\u001b[0mdf_sample_rpt_list1\u001b[0m\u001b[0;34m=\u001b[0m\u001b[0mdf_path\u001b[0m\u001b[0;34m,\u001b[0m \u001b[0mdf_path_orig\u001b[0m\u001b[0;34m=\u001b[0m\u001b[0mdf_path_orig\u001b[0m\u001b[0;34m)\u001b[0m\u001b[0;34m\u001b[0m\u001b[0;34m\u001b[0m\u001b[0m\n\u001b[0m\u001b[1;32m     44\u001b[0m         \u001b[0mcol_drop\u001b[0m \u001b[0;34m=\u001b[0m \u001b[0;34m[\u001b[0m\u001b[0;34m'SOURCE_ACCESSION_NUMBER_1'\u001b[0m\u001b[0;34m,\u001b[0m \u001b[0;34m'SOURCE_SPEC_NUM_1'\u001b[0m\u001b[0;34m]\u001b[0m\u001b[0;34m\u001b[0m\u001b[0;34m\u001b[0m\u001b[0m\n\u001b[1;32m     45\u001b[0m         \u001b[0mdf_path\u001b[0m \u001b[0;34m=\u001b[0m \u001b[0mdf_path\u001b[0m\u001b[0;34m.\u001b[0m\u001b[0mdrop\u001b[0m\u001b[0;34m(\u001b[0m\u001b[0mcolumns\u001b[0m\u001b[0;34m=\u001b[0m\u001b[0mcol_drop\u001b[0m\u001b[0;34m)\u001b[0m\u001b[0;34m\u001b[0m\u001b[0;34m\u001b[0m\u001b[0m\n",
      "\u001b[0;32m~/github/pathology_report_segmentation/annotations/pathology_extract_accession.py\u001b[0m in \u001b[0;36m_extract_accession\u001b[0;34m(self, df_sample_rpt_list1, df_path_orig)\u001b[0m\n\u001b[1;32m    187\u001b[0m \u001b[0;34m\u001b[0m\u001b[0m\n\u001b[1;32m    188\u001b[0m         \u001b[0;31m# Merge with patient ID\u001b[0m\u001b[0;34m\u001b[0m\u001b[0;34m\u001b[0m\u001b[0;34m\u001b[0m\u001b[0m\n\u001b[0;32m--> 189\u001b[0;31m         \u001b[0mt\u001b[0m \u001b[0;34m=\u001b[0m \u001b[0mdf_sample_rpt_list1\u001b[0m\u001b[0;34m[\u001b[0m\u001b[0;34m[\u001b[0m\u001b[0;34m'DMP_ID'\u001b[0m\u001b[0;34m,\u001b[0m \u001b[0;34m'ACCESSION_NUMBER'\u001b[0m\u001b[0;34m]\u001b[0m\u001b[0;34m]\u001b[0m\u001b[0;34m.\u001b[0m\u001b[0mdrop_duplicates\u001b[0m\u001b[0;34m(\u001b[0m\u001b[0;34m)\u001b[0m\u001b[0;34m\u001b[0m\u001b[0;34m\u001b[0m\u001b[0m\n\u001b[0m\u001b[1;32m    190\u001b[0m         \u001b[0mdf_access_num_source\u001b[0m \u001b[0;34m=\u001b[0m \u001b[0mt\u001b[0m\u001b[0;34m.\u001b[0m\u001b[0mmerge\u001b[0m\u001b[0;34m(\u001b[0m\u001b[0mright\u001b[0m\u001b[0;34m=\u001b[0m\u001b[0mdf_access_num_source\u001b[0m\u001b[0;34m,\u001b[0m \u001b[0mhow\u001b[0m\u001b[0;34m=\u001b[0m\u001b[0;34m'right'\u001b[0m\u001b[0;34m,\u001b[0m \u001b[0mon\u001b[0m\u001b[0;34m=\u001b[0m\u001b[0;34m'ACCESSION_NUMBER'\u001b[0m\u001b[0;34m)\u001b[0m\u001b[0;34m\u001b[0m\u001b[0;34m\u001b[0m\u001b[0m\n\u001b[1;32m    191\u001b[0m \u001b[0;34m\u001b[0m\u001b[0m\n",
      "\u001b[0;32m~/.local/lib/python3.6/site-packages/pandas/core/frame.py\u001b[0m in \u001b[0;36m__getitem__\u001b[0;34m(self, key)\u001b[0m\n\u001b[1;32m   2910\u001b[0m             \u001b[0;32mif\u001b[0m \u001b[0mis_iterator\u001b[0m\u001b[0;34m(\u001b[0m\u001b[0mkey\u001b[0m\u001b[0;34m)\u001b[0m\u001b[0;34m:\u001b[0m\u001b[0;34m\u001b[0m\u001b[0;34m\u001b[0m\u001b[0m\n\u001b[1;32m   2911\u001b[0m                 \u001b[0mkey\u001b[0m \u001b[0;34m=\u001b[0m \u001b[0mlist\u001b[0m\u001b[0;34m(\u001b[0m\u001b[0mkey\u001b[0m\u001b[0;34m)\u001b[0m\u001b[0;34m\u001b[0m\u001b[0;34m\u001b[0m\u001b[0m\n\u001b[0;32m-> 2912\u001b[0;31m             \u001b[0mindexer\u001b[0m \u001b[0;34m=\u001b[0m \u001b[0mself\u001b[0m\u001b[0;34m.\u001b[0m\u001b[0mloc\u001b[0m\u001b[0;34m.\u001b[0m\u001b[0m_get_listlike_indexer\u001b[0m\u001b[0;34m(\u001b[0m\u001b[0mkey\u001b[0m\u001b[0;34m,\u001b[0m \u001b[0maxis\u001b[0m\u001b[0;34m=\u001b[0m\u001b[0;36m1\u001b[0m\u001b[0;34m,\u001b[0m \u001b[0mraise_missing\u001b[0m\u001b[0;34m=\u001b[0m\u001b[0;32mTrue\u001b[0m\u001b[0;34m)\u001b[0m\u001b[0;34m[\u001b[0m\u001b[0;36m1\u001b[0m\u001b[0;34m]\u001b[0m\u001b[0;34m\u001b[0m\u001b[0;34m\u001b[0m\u001b[0m\n\u001b[0m\u001b[1;32m   2913\u001b[0m \u001b[0;34m\u001b[0m\u001b[0m\n\u001b[1;32m   2914\u001b[0m         \u001b[0;31m# take() does not accept boolean indexers\u001b[0m\u001b[0;34m\u001b[0m\u001b[0;34m\u001b[0m\u001b[0;34m\u001b[0m\u001b[0m\n",
      "\u001b[0;32m~/.local/lib/python3.6/site-packages/pandas/core/indexing.py\u001b[0m in \u001b[0;36m_get_listlike_indexer\u001b[0;34m(self, key, axis, raise_missing)\u001b[0m\n\u001b[1;32m   1252\u001b[0m             \u001b[0mkeyarr\u001b[0m\u001b[0;34m,\u001b[0m \u001b[0mindexer\u001b[0m\u001b[0;34m,\u001b[0m \u001b[0mnew_indexer\u001b[0m \u001b[0;34m=\u001b[0m \u001b[0max\u001b[0m\u001b[0;34m.\u001b[0m\u001b[0m_reindex_non_unique\u001b[0m\u001b[0;34m(\u001b[0m\u001b[0mkeyarr\u001b[0m\u001b[0;34m)\u001b[0m\u001b[0;34m\u001b[0m\u001b[0;34m\u001b[0m\u001b[0m\n\u001b[1;32m   1253\u001b[0m \u001b[0;34m\u001b[0m\u001b[0m\n\u001b[0;32m-> 1254\u001b[0;31m         \u001b[0mself\u001b[0m\u001b[0;34m.\u001b[0m\u001b[0m_validate_read_indexer\u001b[0m\u001b[0;34m(\u001b[0m\u001b[0mkeyarr\u001b[0m\u001b[0;34m,\u001b[0m \u001b[0mindexer\u001b[0m\u001b[0;34m,\u001b[0m \u001b[0maxis\u001b[0m\u001b[0;34m,\u001b[0m \u001b[0mraise_missing\u001b[0m\u001b[0;34m=\u001b[0m\u001b[0mraise_missing\u001b[0m\u001b[0;34m)\u001b[0m\u001b[0;34m\u001b[0m\u001b[0;34m\u001b[0m\u001b[0m\n\u001b[0m\u001b[1;32m   1255\u001b[0m         \u001b[0;32mreturn\u001b[0m \u001b[0mkeyarr\u001b[0m\u001b[0;34m,\u001b[0m \u001b[0mindexer\u001b[0m\u001b[0;34m\u001b[0m\u001b[0;34m\u001b[0m\u001b[0m\n\u001b[1;32m   1256\u001b[0m \u001b[0;34m\u001b[0m\u001b[0m\n",
      "\u001b[0;32m~/.local/lib/python3.6/site-packages/pandas/core/indexing.py\u001b[0m in \u001b[0;36m_validate_read_indexer\u001b[0;34m(self, key, indexer, axis, raise_missing)\u001b[0m\n\u001b[1;32m   1302\u001b[0m             \u001b[0;32mif\u001b[0m \u001b[0mraise_missing\u001b[0m\u001b[0;34m:\u001b[0m\u001b[0;34m\u001b[0m\u001b[0;34m\u001b[0m\u001b[0m\n\u001b[1;32m   1303\u001b[0m                 \u001b[0mnot_found\u001b[0m \u001b[0;34m=\u001b[0m \u001b[0mlist\u001b[0m\u001b[0;34m(\u001b[0m\u001b[0mset\u001b[0m\u001b[0;34m(\u001b[0m\u001b[0mkey\u001b[0m\u001b[0;34m)\u001b[0m \u001b[0;34m-\u001b[0m \u001b[0mset\u001b[0m\u001b[0;34m(\u001b[0m\u001b[0max\u001b[0m\u001b[0;34m)\u001b[0m\u001b[0;34m)\u001b[0m\u001b[0;34m\u001b[0m\u001b[0;34m\u001b[0m\u001b[0m\n\u001b[0;32m-> 1304\u001b[0;31m                 \u001b[0;32mraise\u001b[0m \u001b[0mKeyError\u001b[0m\u001b[0;34m(\u001b[0m\u001b[0;34mf\"{not_found} not in index\"\u001b[0m\u001b[0;34m)\u001b[0m\u001b[0;34m\u001b[0m\u001b[0;34m\u001b[0m\u001b[0m\n\u001b[0m\u001b[1;32m   1305\u001b[0m \u001b[0;34m\u001b[0m\u001b[0m\n\u001b[1;32m   1306\u001b[0m             \u001b[0;31m# we skip the warning on Categorical\u001b[0m\u001b[0;34m\u001b[0m\u001b[0;34m\u001b[0m\u001b[0;34m\u001b[0m\u001b[0m\n",
      "\u001b[0;31mKeyError\u001b[0m: \"['DMP_ID'] not in index\""
     ]
    }
   ],
   "source": [
    "if run_parse_accession:\n",
    "    print('Running PathologyExtractAccession...')\n",
    "    obj_ext_accession = PathologyExtractAccession(pathname=c_dar.pathname,\n",
    "                                                fname=c_dar.fname_darwin_path_col_spec_sub,\n",
    "                                                col_label_access_num=col_label_access_num,\n",
    "                                                col_label_spec_num=col_label_spec_num,\n",
    "                                                col_spec_sub=col_spec_sub,\n",
    "                                                fname_out=c_dar.fname_accessions)"
   ]
  },
  {
   "cell_type": "code",
   "execution_count": null,
   "metadata": {},
   "outputs": [],
   "source": [
    "df_accessions = obj_ext_accession.return_df()\n",
    "df_accessions.head()"
   ]
  },
  {
   "cell_type": "markdown",
   "metadata": {},
   "source": [
    "### PathologyExtractDOP\n",
    "**Extraction of DOP of the specimen part from specimen submitted sections**\n",
    "- Source file: pathology_extract_dop.py\n",
    "- Input: Dataframe of specimens submitted. Each row is a part number of a report (Typically: `table_pathology_col_spec_sub.csv`)\n",
    "\n",
    "- Output: Dataframe of date of procedure for each part number embedded in free-text (Typically: `pathology_spec_part_dop.csv`)"
   ]
  },
  {
   "cell_type": "code",
   "execution_count": null,
   "metadata": {},
   "outputs": [],
   "source": [
    "# Create annotation for date of procedure (DOP) for all pathology reports/specimen part, if indicated\n",
    "if run_parse_dop:\n",
    "    print('Running PathologyExtractDOP...')\n",
    "    obj_dop = PathologyExtractDOP(pathname=c_dar.pathname,\n",
    "                                    fname=c_dar.fname_darwin_path_col_spec_sub,\n",
    "                                    col_label_access_num=col_label_access_num,\n",
    "                                    col_label_spec_num=col_label_spec_num,\n",
    "                                    col_spec_sub=col_spec_sub,\n",
    "                                    list_accession=None,\n",
    "                                    fname_out=c_dar.fname_spec_part_dop)"
   ]
  },
  {
   "cell_type": "code",
   "execution_count": null,
   "metadata": {},
   "outputs": [],
   "source": [
    "df_obj_dop = obj_dop.return_df()\n",
    "df_obj_dop.head()"
   ]
  },
  {
   "cell_type": "markdown",
   "metadata": {},
   "source": [
    "### CombineAccessionDOPImpact\n",
    "**To generate a summary table of source accession and DOP for a given  pathology report.**\n",
    "- Source file: `pathology_extract_dop_impact_wrapper.py`\n",
    "- Input: \n",
    "    - fname_accession=`path_accessions.csv`\n",
    "    - fname_dop=`pathology_spec_part_dop.csv`\n",
    "    - fname_path=`table_pathology_clean.csv`\n",
    "- Output: `pathology_dop_impact_summary.csv`"
   ]
  },
  {
   "cell_type": "code",
   "execution_count": null,
   "metadata": {},
   "outputs": [],
   "source": [
    "# Create table of M accessions of IMPACT samples, source accession number, dates of reports and procedures\n",
    "#Call pathology_extract_dop_impact_wrapper.py\n",
    "if run_CombineAccessionDOPImpact:\n",
    "    print('Running CombineAccessionDOPImpact...')\n",
    "    obj_p = CombineAccessionDOPImpact(pathname=c_dar.pathname,\n",
    "                                      fname_accession=c_dar.fname_accessions,\n",
    "                                      fname_dop=c_dar.fname_spec_part_dop,\n",
    "                                      fname_path=c_dar.fname_darwin_path_clean,\n",
    "                                      fname_out=c_dar.fname_combine_dop_accession)"
   ]
  },
  {
   "cell_type": "code",
   "execution_count": null,
   "metadata": {},
   "outputs": [],
   "source": [
    "df_dop_accession = obj_p.return_df()\n",
    "df_dop_accession.head()"
   ]
  },
  {
   "cell_type": "markdown",
   "metadata": {},
   "source": [
    "### PathologyImpactDOPAnno\n",
    "**To fill in missing DOPs by comparing dates of source surgical pathology reports with surgical and IR dates and labelling positive comparisons as the DOP.**\n",
    "- Source file: `pathology_impact_summary_dop_annotator.py`\n",
    "- Input:  \n",
    "    - fname_path_summary=`pathology_dop_impact_summary.csv`\n",
    "    - fname_surgery=`table_surgery.tsv`\n",
    "    - fname_ir=`table_investigational_radiology.tsv`\n",
    "- Output: `table_pathology_impact_sample_summary_dop_anno.csv`"
   ]
  },
  {
   "cell_type": "code",
   "execution_count": null,
   "metadata": {},
   "outputs": [],
   "source": [
    "# Add annoations for surgical reports that on the same day as the surgery/IR\n",
    "# Call pathology_impact_summary_dop_annotator.py\n",
    "if run_CombineAccessionDOPImpact:\n",
    "    print('Running CombineAccessionDOPImpact...')\n",
    "    obj_dop_anno = PathologyImpactDOPAnno(pathname=c_dar.pathname,\n",
    "                                          fname_path_summary=c_dar.fname_combine_dop_accession,\n",
    "                                          fname_surgery=c_dar.fname_darwin_surgery,\n",
    "                                          fname_ir=c_dar.fname_darwin_ir,\n",
    "                                          fname_save=c_dar.fname_dop_anno)"
   ]
  },
  {
   "cell_type": "code",
   "execution_count": null,
   "metadata": {},
   "outputs": [],
   "source": [
    "df_obj_dop_anno = obj_dop_anno.return_summary()\n",
    "df_obj_dop_anno.head()"
   ]
  },
  {
   "cell_type": "code",
   "execution_count": null,
   "metadata": {},
   "outputs": [],
   "source": [
    "df_obj_dop_anno[df_obj_dop_anno['DMP_ID'] == 'P-0030151']"
   ]
  },
  {
   "cell_type": "code",
   "execution_count": null,
   "metadata": {},
   "outputs": [],
   "source": []
  }
 ],
 "metadata": {
  "kernelspec": {
   "display_name": "Python 3",
   "language": "python",
   "name": "python3"
  },
  "language_info": {
   "codemirror_mode": {
    "name": "ipython",
    "version": 3
   },
   "file_extension": ".py",
   "mimetype": "text/x-python",
   "name": "python",
   "nbconvert_exporter": "python",
   "pygments_lexer": "ipython3",
   "version": "3.6.9"
  }
 },
 "nbformat": 4,
 "nbformat_minor": 4
}
