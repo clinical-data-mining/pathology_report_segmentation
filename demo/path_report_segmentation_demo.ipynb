{
 "cells": [
  {
   "cell_type": "markdown",
   "metadata": {},
   "source": [
    "# Pathology Report Segmentation \n",
    "---\n"
   ]
  },
  {
   "metadata": {},
   "cell_type": "markdown",
   "source": [
    "### Introduction\n",
    "\n",
    "The primary goal of this notebook is to break down pathology reports into sections and sub-sections. These consist of:\n",
    "\n",
    "- Report header\n",
    "- Specimens submitted\n",
    "- Clinical diagnosis\n",
    "- Pathological diagnosis\n",
    "    - Synoptic infomation\n",
    "    - Free-text\n",
    "- Addendums\n",
    "\n",
    "#### Annotations\n",
    "Once reports are broken down into their general subsections, specific attributes of the report are captured. These include:\n",
    "- Date of procedure (DOP)\n",
    "- Source accession number (Ex. specimen in current report was originally examined in a previous report)\n",
    "- DOP derived from combination of pathology reports, surgeries, and IR reports (to backfill DOP above) "
   ]
  },
  {
   "cell_type": "markdown",
   "metadata": {},
   "source": [
    "### Import libraries"
   ]
  },
  {
   "cell_type": "code",
   "metadata": {},
   "source": [
    "from IPython.core.interactiveshell import InteractiveShell\n",
    "InteractiveShell.ast_node_interactivity = \"all\"\n",
    "\n",
    "from pathology_report_segmentation.segmentation import InitCleanPathology\n",
    "from pathology_report_segmentation.segmentation import ParseSurgicalPathology\n",
    "from pathology_report_segmentation.segmentation import ParseMolecularPathology\n",
    "from pathology_report_segmentation.segmentation import PathologyParseSpecSubmitted\n",
    "from pathology_report_segmentation.segmentation import ParseSurgicalPathologySpecimens\n",
    "from pathology_report_segmentation.annotations import PathologyExtractAccession\n",
    "from pathology_report_segmentation.annotations import PathologyExtractDOP\n",
    "from pathology_report_segmentation.annotations import CombineAccessionDOPImpact\n",
    "from pathology_report_segmentation.annotations import PathologyImpactDOPAnno\n",
    "\n",
    "from msk_cdm.data_classes.legacy import CDMProcessingVariables as c_dar\n",
    "from msk_cdm.data_processing import set_debug_console\n"
   ],
   "outputs": [],
   "execution_count": null
  },
  {
   "cell_type": "code",
   "metadata": {},
   "source": [
    "# Extend debug window\n",
    "set_debug_console()"
   ],
   "outputs": [],
   "execution_count": null
  },
  {
   "cell_type": "markdown",
   "metadata": {},
   "source": [
    "-----------------------\n",
    "## Create MSK-IMPACT pathology annotation summary table"
   ]
  },
  {
   "metadata": {},
   "cell_type": "markdown",
   "source": "### Filenames"
  },
  {
   "metadata": {},
   "cell_type": "code",
   "source": [
    "# Minio env file\n",
    "fname_minio_env = '/Users/cfong2/Documents/github/cdm/msk_cdm/minio_env.txt'\n",
    "\n",
    "# Non-pathology report files\n",
    "fname_surgeries = c_dar.fname_surg\n",
    "fname_ir = c_dar.fname_ir\n",
    "\n",
    "# Pathology report extraction files\n",
    "fname_path_idb = c_dar.fname_pathology\n",
    "fname_path_clean = c_dar.fname_path_clean\n",
    "fname_path_surgical_reports_parsed = c_dar.fname_darwin_path_surgical\n",
    "fname_molecular_pathology_reports = c_dar.fname_darwin_path_molecular\n",
    "fname_path_surgical_reports_by_parts = c_dar.fname_darwin_path_col_spec_sub\n",
    "fname_out_pathology_specimens_parsed = c_dar.fname_darwin_path_clean_parsed_specimen\n",
    "\n",
    "# Annotation files\n",
    "fname_path_accession = c_dar.fname_path_accessions\n",
    "fname_path_dop = c_dar.fname_spec_part_dop\n",
    "fname_path_summary_sparse = c_dar.fname_combine_dop_accession\n",
    "fname_path_summary_final = c_dar.fname_dop_anno\n"
   ],
   "outputs": [],
   "execution_count": null
  },
  {
   "cell_type": "markdown",
   "metadata": {},
   "source": "#### Logic for Running Modules"
  },
  {
   "cell_type": "code",
   "metadata": {},
   "source": [
    "# Segmentation modules\n",
    "run_path_clean = False\n",
    "run_parse_surg = False\n",
    "run_parse_dmp = False\n",
    "run_parse_spec_sub = False\n",
    "run_parse_path_dx = False\n",
    "\n",
    "# Annotation modules\n",
    "run_parse_accession = False\n",
    "run_parse_dop = False\n",
    "run_CombineAccessionDOPImpact = False\n",
    "run_dop_extra_anno = True"
   ],
   "outputs": [],
   "execution_count": null
  },
  {
   "cell_type": "markdown",
   "metadata": {},
   "source": [
    "#### Column names"
   ]
  },
  {
   "cell_type": "code",
   "metadata": {},
   "source": [
    "## Constants\n",
    "col_label_access_num = 'ACCESSION_NUMBER'\n",
    "col_label_spec_num = 'SPECIMEN_NUMBER'\n",
    "col_spec_sub = 'SPECIMEN_SUBMITTED'\n",
    "col_spec_sub_list='SPECIMEN_SUBMISSION_LIST'\n",
    "list_cols_id=['MRN', 'ACCESSION_NUMBER']"
   ],
   "outputs": [],
   "execution_count": null
  },
  {
   "cell_type": "markdown",
   "metadata": {},
   "source": [
    "\n",
    "\n",
    "## Run Code for header segmentation\n",
    "**Run initial cleaning of pathology table that comes directly from IDB query**\n"
   ]
  },
  {
   "metadata": {},
   "cell_type": "markdown",
   "source": [
    "### InitCleanPathology\n",
    "**Initial clean and data standardization**"
   ]
  },
  {
   "cell_type": "code",
   "metadata": {},
   "source": [
    "# Recreate cleaned pathology data\n",
    "if run_path_clean:\n",
    "    print('Running InitCleanPathology...')\n",
    "    obj_path = InitCleanPathology(\n",
    "        fname_minio_env=fname_minio_env,\n",
    "        fname=fname_path_idb,  # Change name\n",
    "        fname_save=fname_path_clean\n",
    "    )"
   ],
   "outputs": [],
   "execution_count": null
  },
  {
   "cell_type": "code",
   "metadata": {},
   "source": [
    "if run_path_clean:\n",
    "    df_obj_path = obj_path.return_df().head()\n",
    "    df_obj_path.head();"
   ],
   "outputs": [],
   "execution_count": null
  },
  {
   "cell_type": "markdown",
   "metadata": {},
   "source": [
    "### ParseSurgicalPathology\n",
    "**Parse main sections of surgical pathology reports**"
   ]
  },
  {
   "cell_type": "code",
   "metadata": {},
   "source": [
    "# Using the cleaned pathology table, parse the main sections of the surgical pathology note\n",
    "# surgical_pathology_parsing.py\n",
    "if run_parse_surg:\n",
    "    print('Running ParseSurgicalPathology...')\n",
    "    obj_path_parse = ParseSurgicalPathology(\n",
    "        fname_minio_env=fname_minio_env,\n",
    "        fname_path_clean=fname_path_clean,\n",
    "        fname_save=fname_path_surgical_reports_parsed\n",
    "    )"
   ],
   "outputs": [],
   "execution_count": null
  },
  {
   "cell_type": "code",
   "metadata": {},
   "source": [
    "if run_parse_surg:\n",
    "    df_obj_path_parse = obj_path_parse.return_df_summary()\n",
    "    df_obj_path_parse.head();\n",
    "\n"
   ],
   "outputs": [],
   "execution_count": null
  },
  {
   "cell_type": "markdown",
   "metadata": {},
   "source": [
    "### ParseMolecularPathology\n",
    "**Parse main sections of molecular pathology (MSK-IMPACT) reports**\n"
   ]
  },
  {
   "cell_type": "code",
   "metadata": {},
   "source": [
    "# Using the cleaned pathology table, parse the main sections of the molecular pathology note\n",
    "if run_parse_dmp:\n",
    "    print('Running ParseMolecularPathology...')\n",
    "    obj_parse_dmp = ParseMolecularPathology(\n",
    "        fname_minio_env=fname_minio_env, \n",
    "        fname_path_clean=fname_path_clean,\n",
    "        fname_save=fname_molecular_pathology_reports\n",
    "    )"
   ],
   "outputs": [],
   "execution_count": null
  },
  {
   "cell_type": "code",
   "metadata": {},
   "source": [
    "if run_parse_dmp:\n",
    "    df_obj_parse_dmp = obj_parse_dmp.return_df_summary()\n",
    "    df_obj_parse_dmp.head();\n"
   ],
   "outputs": [],
   "execution_count": null
  },
  {
   "cell_type": "markdown",
   "metadata": {},
   "source": [
    "### PathologyParseSpecSubmitted\n",
    "**Parses specimen submitted column into individual parts**\n"
   ]
  },
  {
   "cell_type": "code",
   "metadata": {},
   "source": [
    "if run_parse_spec_sub:\n",
    "    print('Running PathologyParseSpecSubmitted...')\n",
    "    obj_spec_sub = PathologyParseSpecSubmitted(\n",
    "        fname_minio_env=fname_minio_env,\n",
    "        fname_path_parsed=fname_path_clean,\n",
    "        col_spec_sub=col_spec_sub_list,\n",
    "        list_cols_id=list_cols_id,\n",
    "        fname_save=fname_path_surgical_reports_by_parts\n",
    "    )"
   ],
   "outputs": [],
   "execution_count": null
  },
  {
   "cell_type": "code",
   "metadata": {},
   "source": [
    "if run_parse_spec_sub:\n",
    "    df_spec_sub = obj_spec_sub.return_df()\n",
    "    df_spec_sub.head(10);"
   ],
   "outputs": [],
   "execution_count": null
  },
  {
   "cell_type": "markdown",
   "metadata": {},
   "source": [
    "### ParseSurgicalPathologySpecimens\n",
    "**Parses specimen submitted SECTION in surgical path reports into individual parts**\n"
   ]
  },
  {
   "cell_type": "code",
   "metadata": {},
   "source": [
    "if run_parse_path_dx:\n",
    "    print('Running ParseSurgicalPathologySpecimens...')\n",
    "    obj_parse = ParseSurgicalPathologySpecimens(\n",
    "        fname_minio_env=fname_minio_env, \n",
    "        fname_darwin_pathology_parsed=fname_darwin_pathology_parsed,\n",
    "        fname_save=fname_out_pathology_specimens_parsed\n",
    "    )"
   ],
   "outputs": [],
   "execution_count": null
  },
  {
   "cell_type": "code",
   "metadata": {},
   "source": [
    "if run_parse_path_dx:\n",
    "    df_surg_path_parsed_spec = obj_parse.return_df_parsed_spec()\n",
    "    df_surg_path_parsed_spec.head();\n",
    "\n"
   ],
   "outputs": [],
   "execution_count": null
  },
  {
   "metadata": {},
   "cell_type": "markdown",
   "source": "## Extract Annotations from Segmented Pathology report "
  },
  {
   "cell_type": "markdown",
   "metadata": {},
   "source": [
    "### PathologyExtractAccession\n",
    "**Automatically abstracts source accession number for specimen submitted parts**\n",
    "- Source file: `pathology_extract_accession.py`\n",
    "- Input: Dataframe of specimens submitted. Each row is a part number of a report (Typically: `table_pathology_col_spec_sub.csv`)\n",
    "\n",
    "- Output: Dataframe of accession and part number embedded in free-text (Typically: `path_accessions.csv`)"
   ]
  },
  {
   "cell_type": "code",
   "metadata": {},
   "source": [
    "if run_parse_accession:\n",
    "    print('Running PathologyExtractAccession...')\n",
    "    obj_ext_accession = PathologyExtractAccession(\n",
    "        fname_minio_env=fname_minio_env,\n",
    "        fname=fname_path_surgical_reports_by_parts,\n",
    "        col_label_access_num=col_label_access_num,\n",
    "        col_label_spec_num=col_label_spec_num,\n",
    "        col_spec_sub=col_spec_sub,\n",
    "        fname_out=fname_path_accession\n",
    "    )"
   ],
   "outputs": [],
   "execution_count": null
  },
  {
   "cell_type": "code",
   "metadata": {},
   "source": [
    "if run_parse_accession:\n",
    "    df_accessions = obj_ext_accession.return_df()\n",
    "    df_accessions[df_accessions['SOURCE_ACCESSION_NUMBER_0'].notnull()].head();"
   ],
   "outputs": [],
   "execution_count": null
  },
  {
   "cell_type": "markdown",
   "metadata": {},
   "source": [
    "### PathologyExtractDOP\n",
    "**Extraction of DOP of the specimen part from specimen submitted sections**\n",
    "- Source file: pathology_extract_dop.py\n",
    "- Input: Dataframe of specimens submitted. Each row is a part number of a report (Typically: `table_pathology_col_spec_sub.csv`)\n",
    "\n",
    "- Output: Dataframe of date of procedure for each part number embedded in free-text (Typically: `pathology_spec_part_dop.csv`)"
   ]
  },
  {
   "cell_type": "code",
   "metadata": {},
   "source": [
    "# Create annotation for date of procedure (DOP) for all pathology reports/specimen part, if indicated\n",
    "if run_parse_dop:\n",
    "    print('Running PathologyExtractDOP...')\n",
    "    obj_dop = PathologyExtractDOP(\n",
    "        fname_minio_env=fname_minio_env,\n",
    "        fname=fname_path_surgical_reports_by_parts,\n",
    "        col_label_access_num=col_label_access_num,\n",
    "        col_label_spec_num=col_label_spec_num,\n",
    "        col_spec_sub=col_spec_sub,\n",
    "        list_accession=None,\n",
    "        fname_out=fname_path_dop\n",
    "    )"
   ],
   "outputs": [],
   "execution_count": null
  },
  {
   "cell_type": "code",
   "metadata": {},
   "source": [
    "if run_parse_dop:\n",
    "    df_obj_dop = obj_dop.return_df()\n",
    "    df_obj_dop[df_obj_dop['DATE_OF_PROCEDURE_SURGICAL'].notnull()].shape"
   ],
   "outputs": [],
   "execution_count": null
  },
  {
   "cell_type": "markdown",
   "metadata": {},
   "source": [
    "### CombineAccessionDOPImpact\n",
    "**To generate a summary table of source accession and DOP for a given  pathology report.**\n",
    "- Source file: `pathology_extract_dop_impact_wrapper.py`\n",
    "- Input: \n",
    "    - fname_accession=`path_accessions.csv`\n",
    "    - fname_dop=`pathology_spec_part_dop.csv`\n",
    "    - fname_path=`table_pathology_clean.csv`\n",
    "- Output: `pathology_dop_impact_summary.csv`"
   ]
  },
  {
   "cell_type": "code",
   "metadata": {},
   "source": [
    "# Create table of M accessions of IMPACT samples, source accession number, dates of reports and procedures\n",
    "#Call pathology_extract_dop_impact_wrapper.py\n",
    "if run_CombineAccessionDOPImpact:\n",
    "    print('Running CombineAccessionDOPImpact...')\n",
    "    obj_p = CombineAccessionDOPImpact(\n",
    "        fname_minio_env=fname_minio_env,\n",
    "        fname_accession=fname_path_accession,\n",
    "        fname_dop=fname_path_dop,\n",
    "        fname_path=fname_path_clean,\n",
    "        fname_save=fname_path_summary_sparse\n",
    "    )"
   ],
   "outputs": [],
   "execution_count": null
  },
  {
   "cell_type": "code",
   "metadata": {},
   "source": [
    "if run_CombineAccessionDOPImpact:\n",
    "    df_dop_accession_combined_sparse = obj_p.return_df()\n",
    "    df_dop_accession_combined_sparse.head();\n"
   ],
   "outputs": [],
   "execution_count": null
  },
  {
   "cell_type": "markdown",
   "metadata": {},
   "source": [
    "### PathologyImpactDOPAnno\n",
    "**To fill in missing DOPs by comparing dates of source surgical pathology reports with surgical and IR dates and labelling positive comparisons as the DOP.**\n"
   ]
  },
  {
   "cell_type": "code",
   "metadata": {},
   "source": [
    "# Add annoations for surgical reports that on the same day as the surgery/IR\n",
    "# Call pathology_impact_summary_dop_annotator.py\n",
    "if run_dop_extra_anno:\n",
    "    print('Running CombineAccessionDOPImpact...')\n",
    "    obj_dop_anno = PathologyImpactDOPAnno(\n",
    "        fname_minio_env=fname_minio_env,\n",
    "        fname_path_summary=fname_path_summary_sparse,\n",
    "        fname_surgery=fname_surgeries,\n",
    "        fname_ir=fname_ir,\n",
    "        fname_save=fname_path_summary_final\n",
    "    )"
   ],
   "outputs": [],
   "execution_count": null
  },
  {
   "cell_type": "code",
   "metadata": {},
   "source": [
    "if run_dop_extra_anno:\n",
    "    df_f = obj_dop_anno.return_summary()\n",
    "    df_f.head()"
   ],
   "outputs": [],
   "execution_count": null
  },
  {
   "cell_type": "code",
   "metadata": {},
   "source": "run_dop_extra_anno",
   "outputs": [],
   "execution_count": null
  },
  {
   "metadata": {},
   "cell_type": "code",
   "source": "",
   "outputs": [],
   "execution_count": null
  },
  {
   "metadata": {},
   "cell_type": "code",
   "source": "",
   "outputs": [],
   "execution_count": null
  }
 ],
 "metadata": {
  "kernelspec": {
   "display_name": "Python 3",
   "language": "python",
   "name": "python3"
  },
  "language_info": {
   "codemirror_mode": {
    "name": "ipython",
    "version": 3
   },
   "file_extension": ".py",
   "mimetype": "text/x-python",
   "name": "python",
   "nbconvert_exporter": "python",
   "pygments_lexer": "ipython3",
   "version": "3.7.12"
  }
 },
 "nbformat": 4,
 "nbformat_minor": 4
}
