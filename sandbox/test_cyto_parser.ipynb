{
 "cells": [
  {
   "cell_type": "code",
   "execution_count": null,
   "id": "grateful-scientist",
   "metadata": {},
   "outputs": [],
   "source": [
    "import os\n",
    "import sys\n",
    "import pandas as pd\n",
    "import constants_darwin_pathology as c_dar\n",
    "sys.path.insert(0, '/mind_data/fongc2/pathology_report_segmentation/segmentation')\n",
    "from pathology_parse_heme import ParseHemePathology\n",
    "from pathology_parse_cytology import ParseCytologyPathology\n",
    "%config Completer.use_jedi = False\n"
   ]
  },
  {
   "cell_type": "code",
   "execution_count": null,
   "id": "individual-focus",
   "metadata": {},
   "outputs": [],
   "source": [
    "fname_path = '/mind_data/minio_data/cdm-data/pathology/table_pathology_clean.csv'\n",
    "df_path = pd.read_csv(fname_path)\n",
    "df_path.head()"
   ]
  },
  {
   "cell_type": "code",
   "execution_count": null,
   "id": "vital-austin",
   "metadata": {},
   "outputs": [],
   "source": [
    "df_path['PATH_REPORT_TYPE_GENERAL'].value_counts()"
   ]
  },
  {
   "cell_type": "code",
   "execution_count": null,
   "id": "municipal-storm",
   "metadata": {},
   "outputs": [],
   "source": [
    "fname_mye_path = '/mind_data/minio_data/mye-16-1289/impact_heme_cohort_selected_reports.tsv'\n",
    "df_path_inv = pd.read_csv(fname_mye_path, sep='\\t')\n",
    "df_path_inv = df_path_inv[['MRN', 'Accession.Number']].copy()\n",
    "df_path_inv = df_path_inv[df_path_inv['Accession.Number'].str.contains('H')]\n",
    "df_path_inv.head()"
   ]
  },
  {
   "cell_type": "code",
   "execution_count": null,
   "id": "fossil-hazard",
   "metadata": {},
   "outputs": [],
   "source": [
    "df_heme = df_path[df_path['PATH_REPORT_TYPE_GENERAL'] == 'Hematopathology']\n",
    "df_heme.to_csv('heme_test.csv', index=False)\n",
    "print(df_heme['PATH_REPORT_NOTE'].iloc[2])"
   ]
  },
  {
   "cell_type": "code",
   "execution_count": null,
   "id": "chronic-absolute",
   "metadata": {},
   "outputs": [],
   "source": [
    "obj_s = ParseCytologyPathology(pathname=c_dar.pathname,\n",
    "                                   fname_path_clean=c_dar.fname_darwin_path_clean,\n",
    "                                   fname_save=c_dar.fname_darwin_path_cyto)\n"
   ]
  },
  {
   "cell_type": "code",
   "execution_count": null,
   "id": "cleared-algebra",
   "metadata": {},
   "outputs": [],
   "source": [
    "df = obj_s.return_df_summary()\n",
    "df.head()"
   ]
  },
  {
   "cell_type": "code",
   "execution_count": null,
   "id": "white-sunglasses",
   "metadata": {},
   "outputs": [],
   "source": [
    "df[df['PATH_NOTE_SPEC_SUB'].isnull()]"
   ]
  },
  {
   "cell_type": "code",
   "execution_count": null,
   "id": "higher-sculpture",
   "metadata": {},
   "outputs": [],
   "source": [
    "df_path_f = df_path_inv.merge(right=df, how='left', left_on=['MRN', 'Accession.Number'], right_on=['MRN', 'ACCESSION_NUMBER']).drop(columns='Accession.Number')\n",
    "df_path_f.head()"
   ]
  },
  {
   "cell_type": "code",
   "execution_count": null,
   "id": "certain-edward",
   "metadata": {},
   "outputs": [],
   "source": [
    "print(df_path.loc[df_path['ACCESSION_NUMBER'] == 'C01-25597', 'PATH_REPORT_NOTE'].iloc[0])"
   ]
  },
  {
   "cell_type": "code",
   "execution_count": null,
   "id": "exotic-daily",
   "metadata": {},
   "outputs": [],
   "source": [
    "# df_path_f.to_csv('/mind_data/minio_data/mye-16-1289/mind_myeloid_heme_path_rpt_parsed.tsv', index=False, sep='\\t')"
   ]
  },
  {
   "cell_type": "code",
   "execution_count": null,
   "id": "opposite-ukraine",
   "metadata": {},
   "outputs": [],
   "source": []
  }
 ],
 "metadata": {
  "kernelspec": {
   "display_name": "Python 3",
   "language": "python",
   "name": "python3"
  },
  "language_info": {
   "codemirror_mode": {
    "name": "ipython",
    "version": 3
   },
   "file_extension": ".py",
   "mimetype": "text/x-python",
   "name": "python",
   "nbconvert_exporter": "python",
   "pygments_lexer": "ipython3",
   "version": "3.6.9"
  }
 },
 "nbformat": 4,
 "nbformat_minor": 5
}
