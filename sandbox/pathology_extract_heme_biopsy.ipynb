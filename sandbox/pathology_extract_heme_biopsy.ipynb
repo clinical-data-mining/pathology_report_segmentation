{
 "cells": [
  {
   "cell_type": "code",
   "execution_count": null,
   "metadata": {},
   "outputs": [],
   "source": [
    "import os\n",
    "import sys\n",
    "import re\n",
    "sys.path.insert(0, '/mind_data/fongc2/pathology_report_segmentation/')\n",
    "sys.path.insert(0, '/mind_data/fongc2/pathology_report_segmentation/annotations/')\n",
    "sys.path.insert(0, '/mind_data/fongc2/data-curation/')\n",
    "import pandas as pd\n",
    "import numpy as np\n",
    "from utils_pathology import save_appended_df\n",
    "import constants_darwin_pathology as c_dar\n",
    "\n",
    "from pathology_parse_heme_section_periph_blood import ParseHemePathologySectionPeriphBlood\n",
    "\n",
    "from utils import set_debug_console, print_df_without_index, drop_cols, mrn_zero_pad, convert_to_int\n",
    "\n",
    "%config Completer.use_jedi = False\n"
   ]
  },
  {
   "cell_type": "code",
   "execution_count": null,
   "metadata": {},
   "outputs": [],
   "source": [
    "set_debug_console()\n"
   ]
  },
  {
   "cell_type": "code",
   "execution_count": null,
   "metadata": {},
   "outputs": [],
   "source": [
    "fname = '/mind_data/minio_data/cdm-data/pathology/table_pathology_heme_notes_parsed.csv'\n",
    "df = pd.read_csv(fname, header=0, low_memory=False, sep=',')\n",
    "df = mrn_zero_pad(df=df,col_mrn='MRN')"
   ]
  },
  {
   "cell_type": "code",
   "execution_count": null,
   "metadata": {},
   "outputs": [],
   "source": [
    "## print(df1.loc[df1['ACCESSION_NUMBER'] == 'H20-4400', 'PATH_REPORT_NOTE'].iloc[0])\n",
    "print(df['PERIPHERAL_BLOOD'].iloc[9])"
   ]
  },
  {
   "cell_type": "code",
   "execution_count": null,
   "metadata": {},
   "outputs": [],
   "source": [
    "obj_p = ParseHemePathologySectionPeriphBlood(pathname=c_dar.pathname, \n",
    "                                             fname_path_clean=c_dar.fname_darwin_path_heme,\n",
    "                                   fname_save='test.csv')"
   ]
  },
  {
   "cell_type": "code",
   "execution_count": null,
   "metadata": {},
   "outputs": [],
   "source": [
    "t = obj_p.return_output()\n",
    "t.loc[9]"
   ]
  },
  {
   "cell_type": "code",
   "execution_count": null,
   "metadata": {},
   "outputs": [],
   "source": [
    "df.notnull().sum()/df.shape[0]\n",
    "\n"
   ]
  },
  {
   "cell_type": "code",
   "execution_count": null,
   "metadata": {},
   "outputs": [],
   "source": [
    "print(df['BONE_MARROW_ASPIRATE_SMEAR'].loc[3])\n",
    "\n"
   ]
  },
  {
   "cell_type": "code",
   "execution_count": null,
   "metadata": {},
   "outputs": [],
   "source": [
    "dict_input = {'Cellularity:': 'CELLULARITY',\n",
    "              'Quality:': 'QUALITY',\n",
    "             'Myeloid lineage:': 'MYELOID_LINEAGE',\n",
    "             'Erythroid lineage:': 'ERYTHROID_LINEAGE',\n",
    "             'Megakaryocytes:': 'MEGAKARYOCYTES',\n",
    "             'Plasma cells:': 'PLASMA_CELLS',\n",
    "             'Congo red:': 'CONGO_RED',\n",
    "             'Aspirate differential:': 'ASPIRATE_DIFFERENTIAL',\n",
    "             'Blasts': 'BLASTS',\n",
    "             'Promyelocytes': 'PROMYELOCYTES',\n",
    "             'Myelocytes': 'MYELOCYTES',\n",
    "             'Metamyelocytes': 'METAMYELOCYTES1',\n",
    "              'Meta': 'METAMYELOCYTES2',\n",
    "              'Band/PMN Neutrophils': 'NEUTROPHILS_BANDS2',\n",
    "             'Neutrophils/Bands': 'NEUTROPHILS_BANDS1',\n",
    "             'Monocytes': 'MONOCYTES',\n",
    "             'Eosinophils': 'EOSINOPHILS',\n",
    "             'Basophils': 'BASOPHILS',\n",
    "             'Erythroid Precursors': 'ERYTHROID_PRECURSORS',\n",
    "             'Plasma Cells': 'PLASMA_CELLS',\n",
    "             'Lymphocytes': 'LYMPHOCYTES',\n",
    "              'Nucleated RBC': 'NUCLEATED_RBC',\n",
    "             'Number of Cells Counted': 'NUMBER_OF_CELLS_COUNTED',\n",
    "              'Clot section': 'CLOT_SECTION',\n",
    "             'M: E Ratio': 'ME_RATIO1',\n",
    "             'M:E Ratio': 'ME_RATIO2'}\n",
    "\n",
    "dict_clean = {'ME_RATIO': ['ME_RATIO2', 'ME_RATIO1'],\n",
    "             'METAMYELOCYTES': ['METAMYELOCYTES1', 'METAMYELOCYTES2'],\n",
    "             'NEUTROPHILS_BANDS': ['NEUTROPHILS_BANDS1', 'NEUTROPHILS_BANDS2']}\n",
    "\n"
   ]
  },
  {
   "cell_type": "code",
   "execution_count": null,
   "metadata": {},
   "outputs": [],
   "source": [
    "def _get_attribute(series, str_attr):\n",
    "    str_reg = '(?<=' + str_attr + ').*?(?=\\n)'\n",
    "    extract_current = series.str.findall(str_reg)\n",
    "    extract_current = extract_current[extract_current.notnull()]\n",
    "    extract_current_len = extract_current.apply(lambda x: len(x))\n",
    "    extract_current_str = extract_current[extract_current_len > 0].apply(lambda x: x[0].strip())\n",
    "    \n",
    "    return extract_current_str\n"
   ]
  },
  {
   "cell_type": "code",
   "execution_count": null,
   "metadata": {},
   "outputs": [],
   "source": [
    "for current_attr, col_name in dict_input.items():\n",
    "    series_parsed = _get_attribute(series=series, str_attr=current_attr)\n",
    "    kwargs = {col_name : series_parsed}\n",
    "    df = df.assign(**kwargs)\n",
    "    "
   ]
  },
  {
   "cell_type": "code",
   "execution_count": null,
   "metadata": {},
   "outputs": [],
   "source": [
    "for col_name, list_col_name in dict_clean.items():\n",
    "    series_comb = df[list_col_name[0]].fillna(df[list_col_name[1]])\n",
    "    kwargs = {col_name : series_comb}\n",
    "    df = df.assign(**kwargs)\n",
    "    df = df.drop(columns=list_col_name)"
   ]
  },
  {
   "cell_type": "code",
   "execution_count": null,
   "metadata": {},
   "outputs": [],
   "source": [
    "# df[['ACCESSION_NUMBER', 'BONE_MARROW_BIOPSY'] +  list(dict_input.values())].head(5)\n",
    "\n"
   ]
  },
  {
   "cell_type": "code",
   "execution_count": null,
   "metadata": {},
   "outputs": [],
   "source": [
    "an = 'H17-431'\n",
    "print(df.loc[df['ACCESSION_NUMBER'] == an, 'BONE_MARROW_BIOPSY'].iloc[0])\n",
    "# print(df.loc[df['ACCESSION_NUMBER'] == an, 'PERIPHERAL_BLOOD'].iloc[0])\n"
   ]
  },
  {
   "cell_type": "code",
   "execution_count": null,
   "metadata": {},
   "outputs": [],
   "source": [
    "df.notnull().sum()\n",
    "\n"
   ]
  },
  {
   "cell_type": "code",
   "execution_count": null,
   "metadata": {},
   "outputs": [],
   "source": [
    "df.notnull().sum()"
   ]
  }
 ],
 "metadata": {
  "kernelspec": {
   "display_name": "mind env for data curation",
   "language": "python",
   "name": "env_mind"
  },
  "language_info": {
   "codemirror_mode": {
    "name": "ipython",
    "version": 3
   },
   "file_extension": ".py",
   "mimetype": "text/x-python",
   "name": "python",
   "nbconvert_exporter": "python",
   "pygments_lexer": "ipython3",
   "version": "3.7.12"
  }
 },
 "nbformat": 4,
 "nbformat_minor": 4
}
