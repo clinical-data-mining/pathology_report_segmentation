{
 "cells": [
  {
   "cell_type": "code",
   "execution_count": null,
   "id": "8ee429b1-d1ed-49f1-af09-934d6777a1c7",
   "metadata": {},
   "outputs": [],
   "source": [
    "#Import the requisite library\n",
    "import sys\n",
    "sys.path.insert(0, '/mind_data/cdm_repos/cdm-utilities/')\n",
    "sys.path.insert(0, '/mind_data/cdm_repos/cdm-utilities/minio_api')\n",
    "import re\n",
    "\n",
    "from data_classes_cdm import CDMProcessingVariables as config_cdm\n",
    "import pandas as pd\n",
    "import numpy as np\n",
    "from minio_api import MinioAPI\n",
    "from utils import set_debug_console, mrn_zero_pad, print_df_without_index, convert_to_int\n",
    "%config Completer.use_jedi = False\n",
    "\n"
   ]
  },
  {
   "cell_type": "code",
   "execution_count": null,
   "id": "479b855b-2b0c-4d7b-89b9-037ce91bb21b",
   "metadata": {},
   "outputs": [],
   "source": [
    "set_debug_console()"
   ]
  },
  {
   "cell_type": "code",
   "execution_count": null,
   "id": "7619ae61-89d6-49e0-9766-13ff33d43842",
   "metadata": {},
   "outputs": [],
   "source": [
    "fname_minio_env = config_cdm.minio_env\n",
    "obj_minio = MinioAPI(fname_minio_env=fname_minio_env)\n"
   ]
  },
  {
   "cell_type": "code",
   "execution_count": null,
   "id": "b5e8383f-958b-408f-997a-cc1c2558ebcd",
   "metadata": {},
   "outputs": [],
   "source": [
    "_col_order = ['MRN', 'START_DATE', 'STOP_DATE', 'EVENT_TYPE', 'TREATMENT_TYPE', 'AGENT', 'THERAPY', 'SUBTYPE', 'RX_STATUS', 'RX_ROUTE', 'RX_INVESTIGATIVE']\n"
   ]
  },
  {
   "cell_type": "code",
   "execution_count": null,
   "id": "0cb70652-6fba-439a-85a8-3c1e3cded26f",
   "metadata": {},
   "outputs": [],
   "source": [
    "fname_pdl1 = 'pathology/pathology_pdl1_calls.tsv'\n",
    "fname_gleason = 'pathology/pathology_gleason_calls.tsv'\n",
    "fname_timeline_pdl1 = 'pathology/table_timeline_pdl1.tsv'\n",
    "fname_timeline_gleason = 'pathology/table_timeline_gleason_scores.tsv'\n",
    "fname_path = config_cdm.fname_pathology"
   ]
  },
  {
   "cell_type": "code",
   "execution_count": null,
   "id": "3e16d18b-c01e-4a27-8be6-41f0d6cc6e37",
   "metadata": {},
   "outputs": [],
   "source": [
    "obj = obj_minio.load_obj(path_object=fname_path)\n",
    "df_path = pd.read_csv(obj, sep='\\t')"
   ]
  },
  {
   "cell_type": "code",
   "execution_count": null,
   "id": "e2f84c6c-3dc8-4ee8-96c1-f9c736012fe2",
   "metadata": {},
   "outputs": [],
   "source": [
    "obj = obj_minio.load_obj(path_object=fname_pdl1)\n",
    "df_pdl1 = pd.read_csv(obj, sep='\\t')"
   ]
  },
  {
   "cell_type": "code",
   "execution_count": null,
   "id": "e0b5d036-5de4-4d2f-8c51-b391adf9d447",
   "metadata": {},
   "outputs": [],
   "source": [
    "obj = obj_minio.load_obj(path_object=fname_gleason)\n",
    "df_gleason = pd.read_csv(obj, sep='\\t')\n",
    "df_gleason = convert_to_int(df=df_gleason, list_cols=['Gleason'])\n",
    "df_gleason = df_gleason.drop(columns=['Accession Number'])"
   ]
  },
  {
   "cell_type": "code",
   "execution_count": null,
   "id": "87164dff-ca8b-40c4-a845-8b243463884f",
   "metadata": {},
   "outputs": [],
   "source": [
    "_col_order_gleason = [\n",
    "    'MRN', \n",
    "    'START_DATE', \n",
    "    'STOP_DATE', \n",
    "    'EVENT_TYPE', \n",
    "    'SUBTYPE', \n",
    "    'SOURCE', \n",
    "    'GLEASON_SCORE'\n",
    "]\n",
    "\n",
    "df_gleason = df_gleason.rename(columns={'Path Procedure Date': 'START_DATE', 'Gleason':'GLEASON_SCORE'})\n",
    "df_gleason = df_gleason.assign(STOP_DATE='')\n",
    "df_gleason = df_gleason.assign(EVENT_TYPE='Diagnosis')\n",
    "df_gleason = df_gleason.assign(SUBTYPE='Gleason Score')\n",
    "df_gleason = df_gleason.assign(SOURCE='CDM')\n",
    "df_gleason = df_gleason[_col_order_gleason]\n",
    "\n",
    "df_gleason;\n"
   ]
  },
  {
   "cell_type": "code",
   "execution_count": null,
   "id": "4aee8593-85ec-4d4e-87d5-c666f7bd40f7",
   "metadata": {},
   "outputs": [],
   "source": [
    "import sys\n",
    "import os\n",
    "sys.path.insert(0, os.path.abspath(os.path.join('', '..', '..', 'cdm-utilities')))\n",
    "from data_classes_cdm import CDMProcessingVariables as c_dar\n",
    "from pathology_extract_pdl1 import PathologyExtractPDL1\n",
    "\n",
    "## Constants\n",
    "col_text = 'PATH_REPORT_NOTE'\n",
    "fname_save = c_dar.fname_path_pdl1\n",
    "fname_path = c_dar.fname_path_clean\n",
    "fname_minio_env = c_dar.minio_env\n",
    "\n",
    "# Extract PD-L1\n",
    "obj_p = PathologyExtractPDL1(minio_env=fname_minio_env, \n",
    "                             fname=fname_path, \n",
    "                             col_text=col_text)\n",
    "\n",
    "df_pdl1 = obj_p.return_extraction()"
   ]
  },
  {
   "cell_type": "code",
   "execution_count": null,
   "id": "aad3e77b-aee9-4f94-b6b8-210f21e08704",
   "metadata": {},
   "outputs": [],
   "source": [
    "# df_pdl1[['MRN', 'ACCESSION_NUMBER', \n",
    "def list_length(df, col):\n",
    "    series_len = df.loc[df[col].notnull(), col].astype(str).apply(lambda x: eval(x)).apply(lambda x: len(x))\n",
    "    \n",
    "    return series_len\n",
    "    "
   ]
  },
  {
   "cell_type": "code",
   "execution_count": null,
   "id": "61bd3841-63e4-42cb-be3f-97473e877a72",
   "metadata": {},
   "outputs": [],
   "source": [
    "df_pdl1"
   ]
  },
  {
   "cell_type": "code",
   "execution_count": null,
   "id": "5227e8cb-0334-47b4-9fdd-196c9be86333",
   "metadata": {},
   "outputs": [],
   "source": [
    "series_len = df_pdl1_anno.loc[df_pdl1_anno[col_current].notnull(), col_current].apply(lambda x: len(x))"
   ]
  },
  {
   "cell_type": "code",
   "execution_count": null,
   "id": "71addb20-5556-4ec2-bdfa-9328b960069a",
   "metadata": {},
   "outputs": [],
   "source": [
    "pct_current = df_pdl1_anno.loc[index_current, col_current]\n",
    "pct_current"
   ]
  },
  {
   "cell_type": "code",
   "execution_count": null,
   "id": "0497737b-5482-453f-83e9-0c6ad6eaa8c9",
   "metadata": {},
   "outputs": [],
   "source": [
    "cols_extract = ['PDl1_PERCENTAGE', 'PDl1_CPS_1', 'PDl1_CPS_2', 'PDl1_TPS_1', 'PDl1_TPS_2', 'PDl1_IPS']\n",
    "df_pdl1_anno = df_pdl1.copy()\n",
    "\n",
    "for col_current in cols_extract:\n",
    "    new_col = col_current + '_EST'\n",
    "    length_current = df_pdl1_anno.loc[df_pdl1_anno[col_current].notnull(), col_current].apply(lambda x: len(x))\n",
    "    index_current = length_current[length_current >0].index\n",
    "    pct_current = df_pdl1_anno.loc[index_current, col_current].apply(lambda x: x[0]).str.strip()\n",
    "    pct_current = pct_current.str.replace('%', '').str.replace(' ', '').str.replace('<1', '0').str.replace('>1', '1').str.replace('>=1', '1').str.replace('>', '').str.replace('<', '').str.replace('=', '')\n",
    "\n",
    "    # Takes second value in range\n",
    "    pct_range = pct_current[pct_current.str.contains('-')].str.split('-').apply(lambda x: x[1])\n",
    "    pct_current[pct_current.str.contains('-')] = pct_range\n",
    "\n",
    "\n",
    "    pct_current = pd.to_numeric(pct_current, errors='coerce')\n",
    "    df_pdl1_anno[new_col] = pct_current\n",
    "    \n",
    "PDL1_POSITIVE = (df_pdl1_anno['PDl1_PERCENTAGE_EST'] >= 1) | (df_pdl1_anno['PDl1_TPS_1_EST'] >= 1) | (df_pdl1_anno['PDl1_TPS_2_EST'] >= 1)\n",
    "PDL1_POSITIVE_NULL = df_pdl1_anno['PDl1_PERCENTAGE_EST'].isnull() & df_pdl1_anno['PDl1_TPS_1_EST'].isnull() & df_pdl1_anno['PDl1_TPS_2_EST'].isnull()\n",
    "df_pdl1_anno['PDL1_POSITIVE'] = PDL1_POSITIVE\n",
    "df_pdl1_anno = df_pdl1_anno.replace({'PDL1_POSITIVE': {True: 'Yes', False: 'No'}})\n",
    "df_pdl1_anno.loc[PDL1_POSITIVE_NULL, 'PDL1_POSITIVE'] = np.NaN\n",
    "df_pdl1_anno"
   ]
  },
  {
   "cell_type": "code",
   "execution_count": null,
   "id": "f1ef337d-bc9d-44f8-963c-18c63509b7e7",
   "metadata": {},
   "outputs": [],
   "source": []
  },
  {
   "cell_type": "code",
   "execution_count": null,
   "id": "dd6d0f96-334b-41b2-bb53-d12deb8f8bde",
   "metadata": {},
   "outputs": [],
   "source": [
    "obj_site_summary = MetastaticSiteSummary(fname_minio_env=fname_minio_env, fname_timeline=fname_dx_timeline_met)"
   ]
  },
  {
   "cell_type": "code",
   "execution_count": null,
   "id": "2a9cf19d-c529-43a6-ae3b-5f6b62175d86",
   "metadata": {},
   "outputs": [],
   "source": [
    "print_df_without_index(pd.DataFrame(obj_site_summary.return_summary().columns))"
   ]
  },
  {
   "cell_type": "code",
   "execution_count": null,
   "id": "fcf3b23d-5a0c-4b1e-ad64-e3c2a8e5d7f8",
   "metadata": {},
   "outputs": [],
   "source": []
  },
  {
   "cell_type": "code",
   "execution_count": null,
   "id": "50fb9747-e11d-4d08-8aa7-2b50440ed88c",
   "metadata": {},
   "outputs": [],
   "source": [
    "obj_dx_timeline = cBioPortalDiagnosisTimeline(\n",
    "    fname_minio_config=config_cdm.minio_env,\n",
    "    fname_impact_map=fname_impact_map, \n",
    "    fname_demo=fname_demo, \n",
    "    fname_dx=fname_dx, \n",
    "    fname_cbio=fname_cbio, \n",
    "    fname_rad_pred=fname_rad_pred,\n",
    "    fname_rad_rpt=fname_rad_rpt\n",
    ")"
   ]
  },
  {
   "cell_type": "code",
   "execution_count": null,
   "id": "a83b2f5d-416f-4e49-93ce-02237e5f085d",
   "metadata": {},
   "outputs": [],
   "source": [
    "df_prim = obj_dx_timeline.primary_dx_clean_and_merge(fname_save=fname_save_dx_prim)"
   ]
  },
  {
   "cell_type": "code",
   "execution_count": null,
   "id": "1a12f447-3480-403b-b7f4-7ca4886689f3",
   "metadata": {},
   "outputs": [],
   "source": [
    "df_mets = obj_dx_timeline.metastatic_clean_and_merge(fname_save=fname_save_dx_met)"
   ]
  },
  {
   "cell_type": "code",
   "execution_count": null,
   "id": "1bb2c0b6-a985-4f70-826c-952f4230a2b9",
   "metadata": {},
   "outputs": [],
   "source": [
    "df_ln = obj_dx_timeline.lymph_node_clean_and_merge(fname_save=fname_save_dx_ln)"
   ]
  },
  {
   "cell_type": "code",
   "execution_count": null,
   "id": "46c7e135-2509-4cbc-b0e1-9774c7b66587",
   "metadata": {},
   "outputs": [],
   "source": [
    "# df_dx_timeline = obj_dx_timeline._df_dx_timeline\n",
    "# df_sample_summary = obj_dx_timeline._df_sample_summary\n",
    "# df_demo = obj_dx_timeline._df_demo\n",
    "# df_rad_pred = obj_dx_timeline._df_rad\n",
    "# df_impact = obj_dx_timeline._df_impact\n",
    "\n",
    "# obj_met_timeline = MetastaticTimeline(\n",
    "#     df_dx_timeline=df_dx_timeline, \n",
    "#     df_sample_summary=df_sample_summary, \n",
    "#     df_demo=df_demo, \n",
    "#     df_impact=df_impact,\n",
    "#     fname_rad_pred=df_rad_pred\n",
    "# )\n",
    "\n",
    "# df_f = obj_met_timeline.metastatic_clean_and_merge()"
   ]
  },
  {
   "cell_type": "code",
   "execution_count": null,
   "id": "21e10817-a300-44d4-8179-582e615d7e9a",
   "metadata": {},
   "outputs": [],
   "source": [
    "# df_f['ANATOMIC_LOCATION'].value_counts()\n",
    "# # df_rad_pred\n",
    "# df_f.sample()"
   ]
  },
  {
   "cell_type": "code",
   "execution_count": null,
   "id": "3a622a3c-4b55-48d6-89f9-7a889cee15f8",
   "metadata": {},
   "outputs": [],
   "source": [
    "# df_ln = obj_met_timeline.lymph_node_clean_and_merge()"
   ]
  },
  {
   "cell_type": "code",
   "execution_count": null,
   "id": "ab8b2157-56eb-49c9-8bf9-f9f742a6867a",
   "metadata": {},
   "outputs": [],
   "source": [
    "# df_ln.sample()"
   ]
  },
  {
   "cell_type": "code",
   "execution_count": null,
   "id": "f0bc2620-7797-4b10-8ea9-ce6e4962378f",
   "metadata": {},
   "outputs": [],
   "source": [
    "# df_dx_timeline['METASTATIC_SITE'].value_counts()"
   ]
  },
  {
   "cell_type": "code",
   "execution_count": null,
   "id": "34e09ad1-6c8b-4e3a-9c5d-910b1c2a5df9",
   "metadata": {},
   "outputs": [],
   "source": []
  },
  {
   "cell_type": "code",
   "execution_count": null,
   "id": "fc9b148b-bdc0-4499-8650-75669974d787",
   "metadata": {},
   "outputs": [],
   "source": []
  }
 ],
 "metadata": {
  "kernelspec": {
   "display_name": "env_cdm",
   "language": "python",
   "name": "env_cdm"
  },
  "language_info": {
   "codemirror_mode": {
    "name": "ipython",
    "version": 3
   },
   "file_extension": ".py",
   "mimetype": "text/x-python",
   "name": "python",
   "nbconvert_exporter": "python",
   "pygments_lexer": "ipython3",
   "version": "3.6.9"
  }
 },
 "nbformat": 4,
 "nbformat_minor": 5
}
